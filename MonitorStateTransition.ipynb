{
 "cells": [
  {
   "cell_type": "code",
   "execution_count": 20,
   "metadata": {
    "tags": [
     "Debug"
    ]
   },
   "outputs": [
    {
     "data": {
      "application/javascript": [
       "try {IPython.notebook.kernel.execute(\"NOTEBOOK_URL = '\" + window.location + \"'\");} catch(err) {;}"
      ],
      "text/plain": [
       "<IPython.core.display.Javascript object>"
      ]
     },
     "metadata": {},
     "output_type": "display_data"
    },
    {
     "data": {
      "text/html": [
       "<html>\n",
       "            <head>\n",
       "            <style>\n",
       "            .kql-magic-banner {\n",
       "                display: flex; \n",
       "                background-color: #d9edf7;\n",
       "            }\n",
       "            .kql-magic-banner > div {\n",
       "                margin: 10px; \n",
       "                padding: 20px; \n",
       "                color: #3a87ad; \n",
       "                font-size: 13px;\n",
       "            }\n",
       "            </style>\n",
       "            </head>\n",
       "            <body>\n",
       "                <div class='kql-magic-banner'>\n",
       "                    <div><img src='data:image/png;base64,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'></div>\n",
       "                    <div>\n",
       "                        <p>Kql Query Language, aka kql, is the query language for advanced analytics on Azure Monitor resources. The current supported data sources are \n",
       "                        Azure Data Explorer (Kusto), Log Analytics and Application Insights. To get more information execute '%kql --help \"kql\"'</p>\n",
       "                        <p>   &bull; kql reference: Click on 'Help' tab > and Select 'kql reference' or execute '%kql --help \"kql\"'<br>\n",
       "                          &bull; Kqlmagic configuration: execute '%config Kqlmagic'<br>\n",
       "                          &bull; Kqlmagic usage: execute '%kql --usage'<br>\n",
       "                    </div>\n",
       "                </div>\n",
       "            </body>\n",
       "            </html>"
      ],
      "text/plain": [
       "<IPython.core.display.HTML object>"
      ]
     },
     "metadata": {},
     "output_type": "display_data"
    },
    {
     "data": {
      "text/html": [
       "<html>\n",
       "        <head>\n",
       "        \n",
       "        </head>\n",
       "        <body>\n",
       "        <div><p style='padding: 10px; color: #3a87ad; background-color: #d9edf7; border-color: #bce9f1'>Kqlmagic&nbsp;package&nbsp;is&nbsp;updated&nbsp;frequently.&nbsp;Run&nbsp;&apos;!pip&nbsp;install&nbsp;Kqlmagic&nbsp;--no-cache-dir&nbsp;--upgrade&apos;&nbsp;to&nbsp;use&nbsp;the&nbsp;latest&nbsp;version.<br>Kqlmagic&nbsp;version:&nbsp;0.1.106.post2,&nbsp;source:&nbsp;https://github.com/Microsoft/jupyter-Kqlmagic</p></div>\n",
       "        </body>\n",
       "        </html>"
      ],
      "text/plain": [
       "<IPython.core.display.HTML object>"
      ]
     },
     "metadata": {},
     "output_type": "display_data"
    },
    {
     "data": {
      "text/html": [
       "<!DOCTYPE html>\n",
       "            <html><body>\n",
       "            <div style='padding: 10px; color: #3a87ad; background-color: #d9edf7; border-color: #bce9f1'>\n",
       "            Click to find out what's new in Kqlmagic \n",
       "\n",
       "            <button onclick=\"this.style.visibility='visible';kql_MagicLaunchWindowFunction('Kqlmagic_temp_files/what_new_history.html','fullscreen=no,directories=no,location=no,menubar=no,resizable=yes,scrollbars=yes,status=no,titlebar=no,toolbar=no,','what_new_history','')\">What's New? </button>\n",
       "            \n",
       "            </div>\n",
       "\n",
       "            <script>\n",
       "\n",
       "            function kql_MagicLaunchWindowFunction(file_path, window_params, window_name, notebooks_host) {\n",
       "                var url;\n",
       "                if (notebooks_host == 'text') {\n",
       "                    url = ''\n",
       "                } else if (file_path.startsWith('http')) {\n",
       "                    url = file_path;\n",
       "                } else {\n",
       "                    var base_url = '';\n",
       "\n",
       "                    // check if azure notebook\n",
       "                    var azure_host = (notebooks_host == null || notebooks_host.length == 0) ? 'https://notebooks.azure.com' : notebooks_host;\n",
       "                    var start = azure_host.search('//');\n",
       "                    var azure_host_suffix = '.' + azure_host.substring(start+2);\n",
       "\n",
       "                    var loc = String(window.location);\n",
       "                    var end = loc.search(azure_host_suffix);\n",
       "                    start = loc.search('//');\n",
       "                    if (start > 0 && end > 0) {\n",
       "                        var parts = loc.substring(start+2, end).split('-');\n",
       "                        if (parts.length == 2) {\n",
       "                            var library = parts[0];\n",
       "                            var user = parts[1];\n",
       "                            base_url = azure_host + '/api/user/' +user+ '/library/' +library+ '/html/';\n",
       "                        }\n",
       "                    }\n",
       "\n",
       "                    // check if local jupyter lab\n",
       "                    if (base_url.length == 0) {\n",
       "                        var configDataScipt  = document.getElementById('jupyter-config-data');\n",
       "                        if (configDataScipt != null) {\n",
       "                            var jupyterConfigData = JSON.parse(configDataScipt.textContent);\n",
       "                            if (jupyterConfigData['appName'] == 'JupyterLab' && jupyterConfigData['serverRoot'] != null &&  jupyterConfigData['treeUrl'] != null) {\n",
       "                                var basePath = 'C:/Users/raaakunu/Desktop/Jupyter' + '/';\n",
       "                                if (basePath.startsWith(jupyterConfigData['serverRoot'])) {\n",
       "                                    base_url = '/files/' + basePath.substring(jupyterConfigData['serverRoot'].length+1);\n",
       "                                }\n",
       "                            } \n",
       "                        }\n",
       "                    }\n",
       "\n",
       "                    // assume local jupyter notebook\n",
       "                    if (base_url.length == 0) {\n",
       "\n",
       "                        var parts = loc.split('/');\n",
       "                        parts.pop();\n",
       "                        base_url = parts.join('/') + '/';\n",
       "                    }\n",
       "                    url = base_url + file_path;\n",
       "                }\n",
       "\n",
       "                window.focus();\n",
       "                var w = screen.width / 2;\n",
       "                var h = screen.height / 2;\n",
       "                params = 'width='+w+',height='+h;\n",
       "                kql_Magic_what_new_history = window.open(url, window_name, window_params + params);\n",
       "                if (url == '') {\n",
       "                    var el = kql_Magic_what_new_history.document.createElement('p');\n",
       "                    kql_Magic_what_new_history.document.body.overflow = 'auto';\n",
       "                    el.style.top = 0;\n",
       "                    el.style.left = 0;\n",
       "                    el.innerHTML = file_path;\n",
       "                    kql_Magic_what_new_history.document.body.appendChild(el);\n",
       "                }\n",
       "            }\n",
       "            </script>\n",
       "\n",
       "            </body></html>"
      ],
      "text/plain": [
       "<IPython.core.display.HTML object>"
      ]
     },
     "metadata": {},
     "output_type": "display_data"
    }
   ],
   "source": [
    "%reload_ext Kqlmagic"
   ]
  },
  {
   "cell_type": "code",
   "execution_count": 21,
   "metadata": {
    "tags": [
     "Debug"
    ]
   },
   "outputs": [
    {
     "data": {
      "application/javascript": [
       "try {IPython.notebook.kernel.reconnect();} catch(err) {;}"
      ],
      "text/plain": [
       "<IPython.core.display.Javascript object>"
      ]
     },
     "metadata": {},
     "output_type": "display_data"
    }
   ],
   "source": [
    "%kql AzureDataExplorer://code;cluster='vso';database='vso'"
   ]
  },
  {
   "cell_type": "code",
   "execution_count": 22,
   "metadata": {
    "tags": [
     "parameters"
    ]
   },
   "outputs": [],
   "source": [
    "_Service_ = 'kalypso'\n",
    "_ScaleUnit_ = 'kalypso-wcus-1'\n",
    "_AlertTime_ = '2019-09-20 20:45'\n",
    "_UpperOutlier_ = 5\n",
    "_LowerOutlier_ = -5\n",
    "_RunResult_ = 'Succeeded'"
   ]
  },
  {
   "cell_type": "code",
   "execution_count": 23,
   "metadata": {},
   "outputs": [],
   "source": [
    "dynamic_tsg_transition_scope = ['Succeeded', 'UserError', 'PlatformError']"
   ]
  },
  {
   "cell_type": "code",
   "execution_count": 24,
   "metadata": {},
   "outputs": [],
   "source": [
    "from IPython.display import Markdown, display\n",
    "def printmd(string):\n",
    "    display(Markdown(string))"
   ]
  },
  {
   "cell_type": "code",
   "execution_count": 25,
   "metadata": {},
   "outputs": [
    {
     "data": {
      "text/markdown": [
       "# TSG : Monitor State Transition : Succeeded"
      ],
      "text/plain": [
       "<IPython.core.display.Markdown object>"
      ]
     },
     "metadata": {},
     "output_type": "display_data"
    },
    {
     "data": {
      "text/markdown": [
       "## Related Monitors"
      ],
      "text/plain": [
       "<IPython.core.display.Markdown object>"
      ]
     },
     "metadata": {},
     "output_type": "display_data"
    },
    {
     "data": {
      "text/markdown": [
       "This monitor is fired when kalypso monitor, [Monitor Transition](https://kalypsocus.vstskalypso.visualstudio.com//summary?containerId=5a0432f7-b311-4c7e-810d-3152b0215c8c&selectedPage=summary&monitorId=59787740-e5d6-4740-abdc-df6ef1ec8488), detects an [anomaly](https://kusto.azurewebsites.net/docs/query/series-outliersfunction.html?q=series_outlie), sudden increase of number of monitors failing with Platform error or User error or sudden decrease of number of monitors succeeding, in monitor runs."
      ],
      "text/plain": [
       "<IPython.core.display.Markdown object>"
      ]
     },
     "metadata": {},
     "output_type": "display_data"
    }
   ],
   "source": [
    "printmd(\"# TSG : Monitor State Transition : {0}\".format(_RunResult_))\n",
    "printmd(\"## Related Monitors\")\n",
    "printmd(\"This monitor is fired when kalypso monitor, [Monitor Transition](https://kalypsocus.vstskalypso.visualstudio.com//summary?containerId=5a0432f7-b311-4c7e-810d-3152b0215c8c&selectedPage=summary&monitorId=59787740-e5d6-4740-abdc-df6ef1ec8488), detects an [anomaly](https://kusto.azurewebsites.net/docs/query/series-outliersfunction.html?q=series_outlie), sudden increase of number of monitors failing with Platform error or User error or sudden decrease of number of monitors succeeding, in monitor runs.\")"
   ]
  },
  {
   "cell_type": "code",
   "execution_count": 26,
   "metadata": {},
   "outputs": [
    {
     "data": {
      "text/markdown": [
       "## Reason for current monitor alert"
      ],
      "text/plain": [
       "<IPython.core.display.Markdown object>"
      ]
     },
     "metadata": {},
     "output_type": "display_data"
    },
    {
     "data": {
      "text/markdown": [
       "The present monitor run has detected anomaly in number of monitor runs having <span style='color:red;font-weight:bold'>Succeeded</span>"
      ],
      "text/plain": [
       "<IPython.core.display.Markdown object>"
      ]
     },
     "metadata": {},
     "output_type": "display_data"
    }
   ],
   "source": [
    "printmd(\"## Reason for current monitor alert\")\n",
    "printmd(\"The present monitor run has detected anomaly in number of monitor runs having <span style='color:red;font-weight:bold'>{}</span>\".format(_RunResult_))\n"
   ]
  },
  {
   "cell_type": "code",
   "execution_count": 27,
   "metadata": {},
   "outputs": [],
   "source": [
    "if _RunResult_ not in dynamic_tsg_transition_scope:\n",
    "    printmd(\"Transition type, <b>{}</b>, is not supported in this synamic TSG.\".format(_RunResult_))\n",
    "    "
   ]
  },
  {
   "cell_type": "code",
   "execution_count": 28,
   "metadata": {},
   "outputs": [
    {
     "data": {
      "text/markdown": [
       "When this alert fires, usually the <b>UserError state transition</b> monitor and/or the <b>PlatformError state transition</b> monitor also fires an alert."
      ],
      "text/plain": [
       "<IPython.core.display.Markdown object>"
      ]
     },
     "metadata": {},
     "output_type": "display_data"
    },
    {
     "data": {
      "text/markdown": [
       "* If one of these two fired, please refer to the corresponding state transition monitor and STOP HERE (ignore the below analysis)"
      ],
      "text/plain": [
       "<IPython.core.display.Markdown object>"
      ]
     },
     "metadata": {},
     "output_type": "display_data"
    },
    {
     "data": {
      "text/markdown": [
       "* Otherwise, continue with the below investigation"
      ],
      "text/plain": [
       "<IPython.core.display.Markdown object>"
      ]
     },
     "metadata": {},
     "output_type": "display_data"
    }
   ],
   "source": [
    "if _RunResult_ == \"Succeeded\":\n",
    "    printmd(\"When this alert fires, usually the <b>UserError state transition</b> monitor and/or the <b>PlatformError state transition</b> monitor also fires an alert.\")\n",
    "    printmd(\"* If one of these two fired, please refer to the corresponding state transition monitor and STOP HERE (ignore the below analysis)\")\n",
    "    printmd(\"* Otherwise, continue with the below investigation\")"
   ]
  },
  {
   "cell_type": "code",
   "execution_count": 29,
   "metadata": {},
   "outputs": [
    {
     "data": {
      "text/markdown": [
       "In the below figure, outlierPossibility measures the likeliness of failMonitorCount value to be an outlier. The threshold for outlierPossibility is set to 5 to -5. This alert is fired because outlier possibility has exceeded or dropped below the threshold value."
      ],
      "text/plain": [
       "<IPython.core.display.Markdown object>"
      ]
     },
     "metadata": {},
     "output_type": "display_data"
    }
   ],
   "source": [
    "printmd(\"In the below figure, outlierPossibility measures the likeliness of failMonitorCount value to be an outlier. The threshold for outlierPossibility is set to {} to {}. This alert is fired because outlier possibility has exceeded or dropped below the threshold value.\".format(_UpperOutlier_, _LowerOutlier_))"
   ]
  },
  {
   "cell_type": "code",
   "execution_count": 30,
   "metadata": {},
   "outputs": [
    {
     "data": {
      "text/html": [
       "<html>\n",
       "        <head>\n",
       "        \n",
       "        </head>\n",
       "        <body>\n",
       "        <div><p style='padding: 10px; color: #3a87ad; background-color: #d9edf7; border-color: #bce9f1'>&nbsp;*&nbsp;vso@vso</p></div>\n",
       "        </body>\n",
       "        </html>"
      ],
      "text/plain": [
       "<IPython.core.display.HTML object>"
      ]
     },
     "metadata": {},
     "output_type": "display_data"
    },
    {
     "data": {
      "application/vnd.jupyter.widget-view+json": {
       "model_id": "4383267a0f774a2b8e1842a95b947a0a",
       "version_major": 2,
       "version_minor": 0
      },
      "text/plain": [
       "FigureWidget({\n",
       "    'data': [{'line': {'color': 'rgb(31, 118, 179)', 'width': 1},\n",
       "              'name': 'failMo…"
      ]
     },
     "metadata": {},
     "output_type": "display_data"
    },
    {
     "data": {
      "text/html": [
       "<html>\n",
       "        <head>\n",
       "        \n",
       "        </head>\n",
       "        <body>\n",
       "        <div><p style='padding: 10px; color: #3a87ad; background-color: #d9edf7; border-color: #bce9f1'>Done&nbsp;(00:03.002):&nbsp;282&nbsp;records</p></div>\n",
       "        </body>\n",
       "        </html>"
      ],
      "text/plain": [
       "<IPython.core.display.HTML object>"
      ]
     },
     "metadata": {},
     "output_type": "display_data"
    },
    {
     "data": {
      "text/html": [],
      "text/plain": [
       "[{'OutlierTimeStamp': datetime.datetime(2019, 9, 20, 18, 50, tzinfo=tzutc()), 'failMonitorCount': 469.0, 'outlierPossibility': 0.0, 'Threshold': -5},\n",
       " {'OutlierTimeStamp': datetime.datetime(2019, 9, 20, 19, 5, tzinfo=tzutc()), 'failMonitorCount': 469.0, 'outlierPossibility': 0.0, 'Threshold': -5},\n",
       " {'OutlierTimeStamp': datetime.datetime(2019, 9, 20, 18, 55, tzinfo=tzutc()), 'failMonitorCount': 453.0, 'outlierPossibility': 0.0, 'Threshold': -5},\n",
       " {'OutlierTimeStamp': datetime.datetime(2019, 9, 20, 19, 10, tzinfo=tzutc()), 'failMonitorCount': 478.0, 'outlierPossibility': 0.0, 'Threshold': -5},\n",
       " {'OutlierTimeStamp': datetime.datetime(2019, 9, 20, 5, 25, tzinfo=tzutc()), 'failMonitorCount': 442.0, 'outlierPossibility': -0.1542478779142095, 'Threshold': -5},\n",
       " {'OutlierTimeStamp': datetime.datetime(2019, 9, 20, 5, 30, tzinfo=tzutc()), 'failMonitorCount': 518.0, 'outlierPossibility': 0.0038561969478561144, 'Threshold': -5},\n",
       " {'OutlierTimeStamp': datetime.datetime(2019, 9, 20, 3, 25, tzinfo=tzutc()), 'failMonitorCount': 448.0, 'outlierPossibility': 0.0, 'Threshold': -5},\n",
       " {'OutlierTimeStamp': datetime.datetime(2019, 9, 20, 3, 15, tzinfo=tzutc()), 'failMonitorCount': 493.0, 'outlierPossibility': 0.0, 'Threshold': -5},\n",
       " {'OutlierTimeStamp': datetime.datetime(2019, 9, 20, 3, 20, tzinfo=tzutc()), 'failMonitorCount': 477.0, 'outlierPossibility': 0.0, 'Threshold': -5},\n",
       " {'OutlierTimeStamp': datetime.datetime(2019, 9, 20, 5, 5, tzinfo=tzutc()), 'failMonitorCount': 468.0, 'outlierPossibility': 0.0, 'Threshold': -5},\n",
       " {'OutlierTimeStamp': datetime.datetime(2019, 9, 20, 5, 10, tzinfo=tzutc()), 'failMonitorCount': 481.0, 'outlierPossibility': 0.0, 'Threshold': -5},\n",
       " {'OutlierTimeStamp': datetime.datetime(2019, 9, 20, 16, 30, tzinfo=tzutc()), 'failMonitorCount': 506.0, 'outlierPossibility': 0.0, 'Threshold': -5},\n",
       " {'OutlierTimeStamp': datetime.datetime(2019, 9, 20, 16, 35, tzinfo=tzutc()), 'failMonitorCount': 452.0, 'outlierPossibility': 0.0, 'Threshold': -5},\n",
       " {'OutlierTimeStamp': datetime.datetime(2019, 9, 20, 16, 10, tzinfo=tzutc()), 'failMonitorCount': 466.0, 'outlierPossibility': 0.0, 'Threshold': -5},\n",
       " {'OutlierTimeStamp': datetime.datetime(2019, 9, 20, 14, 20, tzinfo=tzutc()), 'failMonitorCount': 472.0, 'outlierPossibility': 0.0, 'Threshold': -5},\n",
       " {'OutlierTimeStamp': datetime.datetime(2019, 9, 20, 6, 55, tzinfo=tzutc()), 'failMonitorCount': 454.0, 'outlierPossibility': 0.0, 'Threshold': -5},\n",
       " {'OutlierTimeStamp': datetime.datetime(2019, 9, 20, 8, 10, tzinfo=tzutc()), 'failMonitorCount': 476.0, 'outlierPossibility': 0.0, 'Threshold': -5},\n",
       " {'OutlierTimeStamp': datetime.datetime(2019, 9, 20, 8, 25, tzinfo=tzutc()), 'failMonitorCount': 447.0, 'outlierPossibility': 0.0, 'Threshold': -5},\n",
       " {'OutlierTimeStamp': datetime.datetime(2019, 9, 20, 8, 30, tzinfo=tzutc()), 'failMonitorCount': 517.0, 'outlierPossibility': 0.0, 'Threshold': -5},\n",
       " {'OutlierTimeStamp': datetime.datetime(2019, 9, 20, 7, 55, tzinfo=tzutc()), 'failMonitorCount': 450.0, 'outlierPossibility': 0.0, 'Threshold': -5},\n",
       " {'OutlierTimeStamp': datetime.datetime(2019, 9, 20, 8, 15, tzinfo=tzutc()), 'failMonitorCount': 495.0, 'outlierPossibility': 0.0, 'Threshold': -5},\n",
       " {'OutlierTimeStamp': datetime.datetime(2019, 9, 20, 8, 0, tzinfo=tzutc()), 'failMonitorCount': 559.0, 'outlierPossibility': 1.5848969455685036, 'Threshold': -5},\n",
       " {'OutlierTimeStamp': datetime.datetime(2019, 9, 20, 13, 45, tzinfo=tzutc()), 'failMonitorCount': 486.0, 'outlierPossibility': 0.0, 'Threshold': -5},\n",
       " {'OutlierTimeStamp': datetime.datetime(2019, 9, 20, 13, 50, tzinfo=tzutc()), 'failMonitorCount': 459.0, 'outlierPossibility': 0.0, 'Threshold': -5},\n",
       " {'OutlierTimeStamp': datetime.datetime(2019, 9, 20, 15, 5, tzinfo=tzutc()), 'failMonitorCount': 464.0, 'outlierPossibility': 0.0, 'Threshold': -5},\n",
       " {'OutlierTimeStamp': datetime.datetime(2019, 9, 20, 14, 45, tzinfo=tzutc()), 'failMonitorCount': 480.0, 'outlierPossibility': 0.0, 'Threshold': -5},\n",
       " {'OutlierTimeStamp': datetime.datetime(2019, 9, 20, 15, 10, tzinfo=tzutc()), 'failMonitorCount': 470.0, 'outlierPossibility': 0.0, 'Threshold': -5},\n",
       " {'OutlierTimeStamp': datetime.datetime(2019, 9, 20, 14, 40, tzinfo=tzutc()), 'failMonitorCount': 475.0, 'outlierPossibility': 0.0, 'Threshold': -5},\n",
       " {'OutlierTimeStamp': datetime.datetime(2019, 9, 20, 14, 50, tzinfo=tzutc()), 'failMonitorCount': 462.0, 'outlierPossibility': 0.0, 'Threshold': -5},\n",
       " {'OutlierTimeStamp': datetime.datetime(2019, 9, 20, 15, 30, tzinfo=tzutc()), 'failMonitorCount': 513.0, 'outlierPossibility': 0.0, 'Threshold': -5},\n",
       " {'OutlierTimeStamp': datetime.datetime(2019, 9, 20, 15, 35, tzinfo=tzutc()), 'failMonitorCount': 450.0, 'outlierPossibility': 0.0, 'Threshold': -5},\n",
       " {'OutlierTimeStamp': datetime.datetime(2019, 9, 19, 23, 50, tzinfo=tzutc()), 'failMonitorCount': 468.0, 'outlierPossibility': 0.0, 'Threshold': -5},\n",
       " {'OutlierTimeStamp': datetime.datetime(2019, 9, 19, 23, 55, tzinfo=tzutc()), 'failMonitorCount': 434.0, 'outlierPossibility': -0.46274363374262856, 'Threshold': -5},\n",
       " {'OutlierTimeStamp': datetime.datetime(2019, 9, 20, 0, 30, tzinfo=tzutc()), 'failMonitorCount': 514.0, 'outlierPossibility': 0.0, 'Threshold': -5},\n",
       " {'OutlierTimeStamp': datetime.datetime(2019, 9, 20, 0, 35, tzinfo=tzutc()), 'failMonitorCount': 446.0, 'outlierPossibility': 0.0, 'Threshold': -5},\n",
       " {'OutlierTimeStamp': datetime.datetime(2019, 9, 20, 0, 45, tzinfo=tzutc()), 'failMonitorCount': 471.0, 'outlierPossibility': 0.0, 'Threshold': -5},\n",
       " {'OutlierTimeStamp': datetime.datetime(2019, 9, 20, 0, 50, tzinfo=tzutc()), 'failMonitorCount': 468.0, 'outlierPossibility': 0.0, 'Threshold': -5},\n",
       " {'OutlierTimeStamp': datetime.datetime(2019, 9, 20, 1, 50, tzinfo=tzutc()), 'failMonitorCount': 471.0, 'outlierPossibility': 0.0, 'Threshold': -5},\n",
       " {'OutlierTimeStamp': datetime.datetime(2019, 9, 20, 1, 55, tzinfo=tzutc()), 'failMonitorCount': 450.0, 'outlierPossibility': 0.0, 'Threshold': -5},\n",
       " {'OutlierTimeStamp': datetime.datetime(2019, 9, 20, 3, 50, tzinfo=tzutc()), 'failMonitorCount': 472.0, 'outlierPossibility': 0.0, 'Threshold': -5},\n",
       " {'OutlierTimeStamp': datetime.datetime(2019, 9, 20, 3, 35, tzinfo=tzutc()), 'failMonitorCount': 458.0, 'outlierPossibility': 0.0, 'Threshold': -5},\n",
       " {'OutlierTimeStamp': datetime.datetime(2019, 9, 20, 3, 55, tzinfo=tzutc()), 'failMonitorCount': 453.0, 'outlierPossibility': 0.0, 'Threshold': -5},\n",
       " {'OutlierTimeStamp': datetime.datetime(2019, 9, 20, 2, 40, tzinfo=tzutc()), 'failMonitorCount': 478.0, 'outlierPossibility': 0.0, 'Threshold': -5},\n",
       " {'OutlierTimeStamp': datetime.datetime(2019, 9, 20, 2, 30, tzinfo=tzutc()), 'failMonitorCount': 514.0, 'outlierPossibility': 0.0, 'Threshold': -5},\n",
       " {'OutlierTimeStamp': datetime.datetime(2019, 9, 20, 2, 35, tzinfo=tzutc()), 'failMonitorCount': 451.0, 'outlierPossibility': 0.0, 'Threshold': -5},\n",
       " {'OutlierTimeStamp': datetime.datetime(2019, 9, 20, 4, 55, tzinfo=tzutc()), 'failMonitorCount': 457.0, 'outlierPossibility': 0.0, 'Threshold': -5},\n",
       " {'OutlierTimeStamp': datetime.datetime(2019, 9, 20, 4, 45, tzinfo=tzutc()), 'failMonitorCount': 486.0, 'outlierPossibility': 0.0, 'Threshold': -5},\n",
       " {'OutlierTimeStamp': datetime.datetime(2019, 9, 20, 4, 50, tzinfo=tzutc()), 'failMonitorCount': 472.0, 'outlierPossibility': 0.0, 'Threshold': -5},\n",
       " {'OutlierTimeStamp': datetime.datetime(2019, 9, 20, 5, 15, tzinfo=tzutc()), 'failMonitorCount': 497.0, 'outlierPossibility': 0.0, 'Threshold': -5},\n",
       " {'OutlierTimeStamp': datetime.datetime(2019, 9, 20, 14, 30, tzinfo=tzutc()), 'failMonitorCount': 513.0, 'outlierPossibility': 0.0, 'Threshold': -5},\n",
       " {'OutlierTimeStamp': datetime.datetime(2019, 9, 20, 12, 20, tzinfo=tzutc()), 'failMonitorCount': 475.0, 'outlierPossibility': 0.0, 'Threshold': -5},\n",
       " {'OutlierTimeStamp': datetime.datetime(2019, 9, 20, 12, 25, tzinfo=tzutc()), 'failMonitorCount': 450.0, 'outlierPossibility': 0.0, 'Threshold': -5},\n",
       " {'OutlierTimeStamp': datetime.datetime(2019, 9, 20, 13, 40, tzinfo=tzutc()), 'failMonitorCount': 470.0, 'outlierPossibility': 0.0, 'Threshold': -5},\n",
       " {'OutlierTimeStamp': datetime.datetime(2019, 9, 20, 6, 5, tzinfo=tzutc()), 'failMonitorCount': 472.0, 'outlierPossibility': 0.0, 'Threshold': -5},\n",
       " {'OutlierTimeStamp': datetime.datetime(2019, 9, 20, 5, 55, tzinfo=tzutc()), 'failMonitorCount': 449.0, 'outlierPossibility': 0.0, 'Threshold': -5},\n",
       " {'OutlierTimeStamp': datetime.datetime(2019, 9, 20, 6, 0, tzinfo=tzutc()), 'failMonitorCount': 564.0, 'outlierPossibility': 1.7777067929612653, 'Threshold': -5},\n",
       " {'OutlierTimeStamp': datetime.datetime(2019, 9, 20, 6, 35, tzinfo=tzutc()), 'failMonitorCount': 452.0, 'outlierPossibility': 0.0, 'Threshold': -5},\n",
       " {'OutlierTimeStamp': datetime.datetime(2019, 9, 20, 6, 40, tzinfo=tzutc()), 'failMonitorCount': 482.0, 'outlierPossibility': 0.0, 'Threshold': -5},\n",
       " {'OutlierTimeStamp': datetime.datetime(2019, 9, 20, 12, 35, tzinfo=tzutc()), 'failMonitorCount': 452.0, 'outlierPossibility': 0.0, 'Threshold': -5},\n",
       " {'OutlierTimeStamp': datetime.datetime(2019, 9, 20, 12, 10, tzinfo=tzutc()), 'failMonitorCount': 473.0, 'outlierPossibility': 0.0, 'Threshold': -5},\n",
       " {'OutlierTimeStamp': datetime.datetime(2019, 9, 20, 12, 40, tzinfo=tzutc()), 'failMonitorCount': 477.0, 'outlierPossibility': 0.0, 'Threshold': -5},\n",
       " {'OutlierTimeStamp': datetime.datetime(2019, 9, 20, 13, 5, tzinfo=tzutc()), 'failMonitorCount': 470.0, 'outlierPossibility': 0.0, 'Threshold': -5},\n",
       " {'OutlierTimeStamp': datetime.datetime(2019, 9, 20, 13, 10, tzinfo=tzutc()), 'failMonitorCount': 474.0, 'outlierPossibility': 0.0, 'Threshold': -5},\n",
       " {'OutlierTimeStamp': datetime.datetime(2019, 9, 20, 5, 20, tzinfo=tzutc()), 'failMonitorCount': 482.0, 'outlierPossibility': 0.0, 'Threshold': -5},\n",
       " {'OutlierTimeStamp': datetime.datetime(2019, 9, 20, 4, 25, tzinfo=tzutc()), 'failMonitorCount': 440.0, 'outlierPossibility': -0.23137181687131428, 'Threshold': -5},\n",
       " {'OutlierTimeStamp': datetime.datetime(2019, 9, 20, 4, 30, tzinfo=tzutc()), 'failMonitorCount': 520.0, 'outlierPossibility': 0.08098013590496086, 'Threshold': -5},\n",
       " {'OutlierTimeStamp': datetime.datetime(2019, 9, 20, 4, 20, tzinfo=tzutc()), 'failMonitorCount': 473.0, 'outlierPossibility': 0.0, 'Threshold': -5},\n",
       " {'OutlierTimeStamp': datetime.datetime(2019, 9, 20, 5, 45, tzinfo=tzutc()), 'failMonitorCount': 490.0, 'outlierPossibility': 0.0, 'Threshold': -5},\n",
       " {'OutlierTimeStamp': datetime.datetime(2019, 9, 20, 5, 40, tzinfo=tzutc()), 'failMonitorCount': 477.0, 'outlierPossibility': 0.0, 'Threshold': -5},\n",
       " {'OutlierTimeStamp': datetime.datetime(2019, 9, 20, 14, 5, tzinfo=tzutc()), 'failMonitorCount': 467.0, 'outlierPossibility': 0.0, 'Threshold': -5},\n",
       " {'OutlierTimeStamp': datetime.datetime(2019, 9, 20, 14, 10, tzinfo=tzutc()), 'failMonitorCount': 476.0, 'outlierPossibility': 0.0, 'Threshold': -5},\n",
       " {'OutlierTimeStamp': datetime.datetime(2019, 9, 20, 14, 15, tzinfo=tzutc()), 'failMonitorCount': 495.0, 'outlierPossibility': 0.0, 'Threshold': -5},\n",
       " {'OutlierTimeStamp': datetime.datetime(2019, 9, 20, 12, 55, tzinfo=tzutc()), 'failMonitorCount': 450.0, 'outlierPossibility': 0.0, 'Threshold': -5},\n",
       " {'OutlierTimeStamp': datetime.datetime(2019, 9, 20, 13, 0, tzinfo=tzutc()), 'failMonitorCount': 550.0, 'outlierPossibility': 1.237839220261532, 'Threshold': -5},\n",
       " {'OutlierTimeStamp': datetime.datetime(2019, 9, 20, 12, 50, tzinfo=tzutc()), 'failMonitorCount': 470.0, 'outlierPossibility': 0.0, 'Threshold': -5},\n",
       " {'OutlierTimeStamp': datetime.datetime(2019, 9, 20, 12, 45, tzinfo=tzutc()), 'failMonitorCount': 493.0, 'outlierPossibility': 0.0, 'Threshold': -5},\n",
       " {'OutlierTimeStamp': datetime.datetime(2019, 9, 20, 4, 15, tzinfo=tzutc()), 'failMonitorCount': 491.0, 'outlierPossibility': 0.0, 'Threshold': -5},\n",
       " {'OutlierTimeStamp': datetime.datetime(2019, 9, 20, 3, 5, tzinfo=tzutc()), 'failMonitorCount': 466.0, 'outlierPossibility': 0.0, 'Threshold': -5},\n",
       " {'OutlierTimeStamp': datetime.datetime(2019, 9, 20, 3, 10, tzinfo=tzutc()), 'failMonitorCount': 476.0, 'outlierPossibility': 0.0, 'Threshold': -5},\n",
       " {'OutlierTimeStamp': datetime.datetime(2019, 9, 20, 2, 55, tzinfo=tzutc()), 'failMonitorCount': 454.0, 'outlierPossibility': 0.0, 'Threshold': -5},\n",
       " {'OutlierTimeStamp': datetime.datetime(2019, 9, 20, 3, 0, tzinfo=tzutc()), 'failMonitorCount': 561.0, 'outlierPossibility': 1.6620208845256081, 'Threshold': -5},\n",
       " {'OutlierTimeStamp': datetime.datetime(2019, 9, 20, 2, 50, tzinfo=tzutc()), 'failMonitorCount': 475.0, 'outlierPossibility': 0.0, 'Threshold': -5},\n",
       " {'OutlierTimeStamp': datetime.datetime(2019, 9, 20, 4, 40, tzinfo=tzutc()), 'failMonitorCount': 481.0, 'outlierPossibility': 0.0, 'Threshold': -5},\n",
       " {'OutlierTimeStamp': datetime.datetime(2019, 9, 20, 4, 35, tzinfo=tzutc()), 'failMonitorCount': 459.0, 'outlierPossibility': 0.0, 'Threshold': -5},\n",
       " {'OutlierTimeStamp': datetime.datetime(2019, 9, 19, 22, 0, tzinfo=tzutc()), 'failMonitorCount': 555.0, 'outlierPossibility': 1.430649067654294, 'Threshold': -5},\n",
       " {'OutlierTimeStamp': datetime.datetime(2019, 9, 19, 21, 45, tzinfo=tzutc()), 'failMonitorCount': 481.0, 'outlierPossibility': 0.0, 'Threshold': -5},\n",
       " {'OutlierTimeStamp': datetime.datetime(2019, 9, 19, 22, 5, tzinfo=tzutc()), 'failMonitorCount': 464.0, 'outlierPossibility': 0.0, 'Threshold': -5},\n",
       " {'OutlierTimeStamp': datetime.datetime(2019, 9, 19, 20, 55, tzinfo=tzutc()), 'failMonitorCount': 452.0, 'outlierPossibility': 0.0, 'Threshold': -5},\n",
       " {'OutlierTimeStamp': datetime.datetime(2019, 9, 19, 21, 0, tzinfo=tzutc()), 'failMonitorCount': 551.0, 'outlierPossibility': 1.2764011897400847, 'Threshold': -5},\n",
       " {'OutlierTimeStamp': datetime.datetime(2019, 9, 19, 20, 45, tzinfo=tzutc()), 'failMonitorCount': 482.0, 'outlierPossibility': 0.0, 'Threshold': -5},\n",
       " {'OutlierTimeStamp': datetime.datetime(2019, 9, 19, 20, 50, tzinfo=tzutc()), 'failMonitorCount': 461.0, 'outlierPossibility': 0.0, 'Threshold': -5},\n",
       " {'OutlierTimeStamp': datetime.datetime(2019, 9, 19, 21, 5, tzinfo=tzutc()), 'failMonitorCount': 466.0, 'outlierPossibility': 0.0, 'Threshold': -5},\n",
       " {'OutlierTimeStamp': datetime.datetime(2019, 9, 19, 21, 10, tzinfo=tzutc()), 'failMonitorCount': 476.0, 'outlierPossibility': 0.0, 'Threshold': -5},\n",
       " {'OutlierTimeStamp': datetime.datetime(2019, 9, 19, 22, 10, tzinfo=tzutc()), 'failMonitorCount': 473.0, 'outlierPossibility': 0.0, 'Threshold': -5},\n",
       " {'OutlierTimeStamp': datetime.datetime(2019, 9, 19, 22, 15, tzinfo=tzutc()), 'failMonitorCount': 490.0, 'outlierPossibility': 0.0, 'Threshold': -5},\n",
       " {'OutlierTimeStamp': datetime.datetime(2019, 9, 20, 8, 55, tzinfo=tzutc()), 'failMonitorCount': 445.0, 'outlierPossibility': -0.03856196947855237, 'Threshold': -5},\n",
       " {'OutlierTimeStamp': datetime.datetime(2019, 9, 20, 9, 25, tzinfo=tzutc()), 'failMonitorCount': 443.0, 'outlierPossibility': -0.11568590843565714, 'Threshold': -5},\n",
       " {'OutlierTimeStamp': datetime.datetime(2019, 9, 20, 9, 30, tzinfo=tzutc()), 'failMonitorCount': 512.0, 'outlierPossibility': 0.0, 'Threshold': -5},\n",
       " {'OutlierTimeStamp': datetime.datetime(2019, 9, 20, 10, 15, tzinfo=tzutc()), 'failMonitorCount': 490.0, 'outlierPossibility': 0.0, 'Threshold': -5},\n",
       " {'OutlierTimeStamp': datetime.datetime(2019, 9, 20, 10, 10, tzinfo=tzutc()), 'failMonitorCount': 477.0, 'outlierPossibility': 0.0, 'Threshold': -5},\n",
       " {'OutlierTimeStamp': datetime.datetime(2019, 9, 20, 10, 20, tzinfo=tzutc()), 'failMonitorCount': 473.0, 'outlierPossibility': 0.0, 'Threshold': -5},\n",
       " {'OutlierTimeStamp': datetime.datetime(2019, 9, 19, 21, 25, tzinfo=tzutc()), 'failMonitorCount': 441.0, 'outlierPossibility': -0.19280984739276188, 'Threshold': -5},\n",
       " {'OutlierTimeStamp': datetime.datetime(2019, 9, 19, 21, 35, tzinfo=tzutc()), 'failMonitorCount': 450.0, 'outlierPossibility': 0.0, 'Threshold': -5},\n",
       " {'OutlierTimeStamp': datetime.datetime(2019, 9, 19, 21, 40, tzinfo=tzutc()), 'failMonitorCount': 475.0, 'outlierPossibility': 0.0, 'Threshold': -5},\n",
       " {'OutlierTimeStamp': datetime.datetime(2019, 9, 19, 21, 30, tzinfo=tzutc()), 'failMonitorCount': 507.0, 'outlierPossibility': 0.0, 'Threshold': -5},\n",
       " {'OutlierTimeStamp': datetime.datetime(2019, 9, 20, 1, 0, tzinfo=tzutc()), 'failMonitorCount': 551.0, 'outlierPossibility': 1.2764011897400847, 'Threshold': -5},\n",
       " {'OutlierTimeStamp': datetime.datetime(2019, 9, 20, 1, 5, tzinfo=tzutc()), 'failMonitorCount': 463.0, 'outlierPossibility': 0.0, 'Threshold': -5},\n",
       " {'OutlierTimeStamp': datetime.datetime(2019, 9, 20, 1, 10, tzinfo=tzutc()), 'failMonitorCount': 474.0, 'outlierPossibility': 0.0, 'Threshold': -5},\n",
       " {'OutlierTimeStamp': datetime.datetime(2019, 9, 20, 1, 25, tzinfo=tzutc()), 'failMonitorCount': 445.0, 'outlierPossibility': -0.03856196947855237, 'Threshold': -5},\n",
       " {'OutlierTimeStamp': datetime.datetime(2019, 9, 20, 1, 30, tzinfo=tzutc()), 'failMonitorCount': 515.0, 'outlierPossibility': 0.0, 'Threshold': -5},\n",
       " {'OutlierTimeStamp': datetime.datetime(2019, 9, 20, 2, 5, tzinfo=tzutc()), 'failMonitorCount': 465.0, 'outlierPossibility': 0.0, 'Threshold': -5},\n",
       " {'OutlierTimeStamp': datetime.datetime(2019, 9, 20, 13, 30, tzinfo=tzutc()), 'failMonitorCount': 516.0, 'outlierPossibility': 0.0, 'Threshold': -5},\n",
       " {'OutlierTimeStamp': datetime.datetime(2019, 9, 20, 13, 35, tzinfo=tzutc()), 'failMonitorCount': 444.0, 'outlierPossibility': -0.07712393895710475, 'Threshold': -5},\n",
       " {'OutlierTimeStamp': datetime.datetime(2019, 9, 20, 19, 15, tzinfo=tzutc()), 'failMonitorCount': 486.0, 'outlierPossibility': 0.0, 'Threshold': -5},\n",
       " {'OutlierTimeStamp': datetime.datetime(2019, 9, 20, 19, 55, tzinfo=tzutc()), 'failMonitorCount': 631.0, 'outlierPossibility': 4.361358748024275, 'Threshold': -5},\n",
       " {'OutlierTimeStamp': datetime.datetime(2019, 9, 20, 20, 0, tzinfo=tzutc()), 'failMonitorCount': 381.0, 'outlierPossibility': -2.5065280161059045, 'Threshold': -5},\n",
       " {'OutlierTimeStamp': datetime.datetime(2019, 9, 20, 20, 5, tzinfo=tzutc()), 'failMonitorCount': 455.0, 'outlierPossibility': 0.0, 'Threshold': -5},\n",
       " {'OutlierTimeStamp': datetime.datetime(2019, 9, 20, 16, 40, tzinfo=tzutc()), 'failMonitorCount': 474.0, 'outlierPossibility': 0.0, 'Threshold': -5},\n",
       " {'OutlierTimeStamp': datetime.datetime(2019, 9, 20, 16, 50, tzinfo=tzutc()), 'failMonitorCount': 464.0, 'outlierPossibility': 0.0, 'Threshold': -5},\n",
       " {'OutlierTimeStamp': datetime.datetime(2019, 9, 20, 16, 45, tzinfo=tzutc()), 'failMonitorCount': 485.0, 'outlierPossibility': 0.0, 'Threshold': -5},\n",
       " {'OutlierTimeStamp': datetime.datetime(2019, 9, 20, 16, 20, tzinfo=tzutc()), 'failMonitorCount': 468.0, 'outlierPossibility': 0.0, 'Threshold': -5},\n",
       " {'OutlierTimeStamp': datetime.datetime(2019, 9, 20, 16, 25, tzinfo=tzutc()), 'failMonitorCount': 443.0, 'outlierPossibility': -0.11568590843565714, 'Threshold': -5},\n",
       " {'OutlierTimeStamp': datetime.datetime(2019, 9, 20, 11, 0, tzinfo=tzutc()), 'failMonitorCount': 564.0, 'outlierPossibility': 1.7777067929612653, 'Threshold': -5},\n",
       " {'OutlierTimeStamp': datetime.datetime(2019, 9, 20, 11, 5, tzinfo=tzutc()), 'failMonitorCount': 469.0, 'outlierPossibility': 0.0, 'Threshold': -5},\n",
       " {'OutlierTimeStamp': datetime.datetime(2019, 9, 20, 12, 15, tzinfo=tzutc()), 'failMonitorCount': 486.0, 'outlierPossibility': 0.0, 'Threshold': -5},\n",
       " {'OutlierTimeStamp': datetime.datetime(2019, 9, 20, 13, 15, tzinfo=tzutc()), 'failMonitorCount': 496.0, 'outlierPossibility': 0.0, 'Threshold': -5},\n",
       " {'OutlierTimeStamp': datetime.datetime(2019, 9, 20, 11, 30, tzinfo=tzutc()), 'failMonitorCount': 515.0, 'outlierPossibility': 0.0, 'Threshold': -5},\n",
       " {'OutlierTimeStamp': datetime.datetime(2019, 9, 20, 11, 35, tzinfo=tzutc()), 'failMonitorCount': 458.0, 'outlierPossibility': 0.0, 'Threshold': -5},\n",
       " {'OutlierTimeStamp': datetime.datetime(2019, 9, 20, 11, 40, tzinfo=tzutc()), 'failMonitorCount': 480.0, 'outlierPossibility': 0.0, 'Threshold': -5},\n",
       " {'OutlierTimeStamp': datetime.datetime(2019, 9, 20, 14, 25, tzinfo=tzutc()), 'failMonitorCount': 446.0, 'outlierPossibility': 0.0, 'Threshold': -5},\n",
       " {'OutlierTimeStamp': datetime.datetime(2019, 9, 20, 10, 35, tzinfo=tzutc()), 'failMonitorCount': 453.0, 'outlierPossibility': 0.0, 'Threshold': -5},\n",
       " {'OutlierTimeStamp': datetime.datetime(2019, 9, 20, 10, 40, tzinfo=tzutc()), 'failMonitorCount': 473.0, 'outlierPossibility': 0.0, 'Threshold': -5},\n",
       " {'OutlierTimeStamp': datetime.datetime(2019, 9, 20, 11, 10, tzinfo=tzutc()), 'failMonitorCount': 475.0, 'outlierPossibility': 0.0, 'Threshold': -5},\n",
       " {'OutlierTimeStamp': datetime.datetime(2019, 9, 20, 11, 15, tzinfo=tzutc()), 'failMonitorCount': 493.0, 'outlierPossibility': 0.0, 'Threshold': -5},\n",
       " {'OutlierTimeStamp': datetime.datetime(2019, 9, 20, 1, 40, tzinfo=tzutc()), 'failMonitorCount': 477.0, 'outlierPossibility': 0.0, 'Threshold': -5},\n",
       " {'OutlierTimeStamp': datetime.datetime(2019, 9, 20, 1, 15, tzinfo=tzutc()), 'failMonitorCount': 495.0, 'outlierPossibility': 0.0, 'Threshold': -5},\n",
       " {'OutlierTimeStamp': datetime.datetime(2019, 9, 20, 1, 20, tzinfo=tzutc()), 'failMonitorCount': 475.0, 'outlierPossibility': 0.0, 'Threshold': -5},\n",
       " {'OutlierTimeStamp': datetime.datetime(2019, 9, 20, 0, 15, tzinfo=tzutc()), 'failMonitorCount': 485.0, 'outlierPossibility': 0.0, 'Threshold': -5},\n",
       " {'OutlierTimeStamp': datetime.datetime(2019, 9, 19, 23, 40, tzinfo=tzutc()), 'failMonitorCount': 476.0, 'outlierPossibility': 0.0, 'Threshold': -5},\n",
       " {'OutlierTimeStamp': datetime.datetime(2019, 9, 20, 17, 25, tzinfo=tzutc()), 'failMonitorCount': 443.0, 'outlierPossibility': -0.11568590843565714, 'Threshold': -5},\n",
       " {'OutlierTimeStamp': datetime.datetime(2019, 9, 20, 17, 30, tzinfo=tzutc()), 'failMonitorCount': 506.0, 'outlierPossibility': 0.0, 'Threshold': -5},\n",
       " {'OutlierTimeStamp': datetime.datetime(2019, 9, 20, 17, 20, tzinfo=tzutc()), 'failMonitorCount': 474.0, 'outlierPossibility': 0.0, 'Threshold': -5},\n",
       " {'OutlierTimeStamp': datetime.datetime(2019, 9, 20, 14, 55, tzinfo=tzutc()), 'failMonitorCount': 448.0, 'outlierPossibility': 0.0, 'Threshold': -5},\n",
       " {'OutlierTimeStamp': datetime.datetime(2019, 9, 20, 17, 0, tzinfo=tzutc()), 'failMonitorCount': 556.0, 'outlierPossibility': 1.4692110371328464, 'Threshold': -5},\n",
       " {'OutlierTimeStamp': datetime.datetime(2019, 9, 20, 20, 10, tzinfo=tzutc()), 'failMonitorCount': 430.0, 'outlierPossibility': -0.616991511656838, 'Threshold': -5},\n",
       " {'OutlierTimeStamp': datetime.datetime(2019, 9, 19, 22, 25, tzinfo=tzutc()), 'failMonitorCount': 447.0, 'outlierPossibility': 0.0, 'Threshold': -5},\n",
       " {'OutlierTimeStamp': datetime.datetime(2019, 9, 19, 22, 30, tzinfo=tzutc()), 'failMonitorCount': 515.0, 'outlierPossibility': 0.0, 'Threshold': -5},\n",
       " {'OutlierTimeStamp': datetime.datetime(2019, 9, 19, 22, 40, tzinfo=tzutc()), 'failMonitorCount': 477.0, 'outlierPossibility': 0.0, 'Threshold': -5},\n",
       " {'OutlierTimeStamp': datetime.datetime(2019, 9, 19, 22, 35, tzinfo=tzutc()), 'failMonitorCount': 457.0, 'outlierPossibility': 0.0, 'Threshold': -5},\n",
       " {'OutlierTimeStamp': datetime.datetime(2019, 9, 20, 0, 40, tzinfo=tzutc()), 'failMonitorCount': 472.0, 'outlierPossibility': 0.0, 'Threshold': -5},\n",
       " {'OutlierTimeStamp': datetime.datetime(2019, 9, 19, 23, 25, tzinfo=tzutc()), 'failMonitorCount': 440.0, 'outlierPossibility': -0.23137181687131428, 'Threshold': -5},\n",
       " {'OutlierTimeStamp': datetime.datetime(2019, 9, 19, 23, 30, tzinfo=tzutc()), 'failMonitorCount': 511.0, 'outlierPossibility': 0.0, 'Threshold': -5},\n",
       " {'OutlierTimeStamp': datetime.datetime(2019, 9, 19, 22, 50, tzinfo=tzutc()), 'failMonitorCount': 453.0, 'outlierPossibility': 0.0, 'Threshold': -5},\n",
       " {'OutlierTimeStamp': datetime.datetime(2019, 9, 19, 23, 0, tzinfo=tzutc()), 'failMonitorCount': 549.0, 'outlierPossibility': 1.1992772507829796, 'Threshold': -5},\n",
       " {'OutlierTimeStamp': datetime.datetime(2019, 9, 19, 22, 55, tzinfo=tzutc()), 'failMonitorCount': 452.0, 'outlierPossibility': 0.0, 'Threshold': -5},\n",
       " {'OutlierTimeStamp': datetime.datetime(2019, 9, 19, 22, 45, tzinfo=tzutc()), 'failMonitorCount': 485.0, 'outlierPossibility': 0.0, 'Threshold': -5},\n",
       " {'OutlierTimeStamp': datetime.datetime(2019, 9, 20, 7, 45, tzinfo=tzutc()), 'failMonitorCount': 492.0, 'outlierPossibility': 0.0, 'Threshold': -5},\n",
       " {'OutlierTimeStamp': datetime.datetime(2019, 9, 20, 7, 50, tzinfo=tzutc()), 'failMonitorCount': 474.0, 'outlierPossibility': 0.0, 'Threshold': -5},\n",
       " {'OutlierTimeStamp': datetime.datetime(2019, 9, 20, 8, 5, tzinfo=tzutc()), 'failMonitorCount': 468.0, 'outlierPossibility': 0.0, 'Threshold': -5},\n",
       " {'OutlierTimeStamp': datetime.datetime(2019, 9, 20, 9, 35, tzinfo=tzutc()), 'failMonitorCount': 455.0, 'outlierPossibility': 0.0, 'Threshold': -5},\n",
       " {'OutlierTimeStamp': datetime.datetime(2019, 9, 20, 9, 40, tzinfo=tzutc()), 'failMonitorCount': 477.0, 'outlierPossibility': 0.0, 'Threshold': -5},\n",
       " {'OutlierTimeStamp': datetime.datetime(2019, 9, 20, 9, 45, tzinfo=tzutc()), 'failMonitorCount': 490.0, 'outlierPossibility': 0.0, 'Threshold': -5},\n",
       " {'OutlierTimeStamp': datetime.datetime(2019, 9, 20, 9, 15, tzinfo=tzutc()), 'failMonitorCount': 486.0, 'outlierPossibility': 0.0, 'Threshold': -5},\n",
       " {'OutlierTimeStamp': datetime.datetime(2019, 9, 20, 9, 20, tzinfo=tzutc()), 'failMonitorCount': 472.0, 'outlierPossibility': 0.0, 'Threshold': -5},\n",
       " {'OutlierTimeStamp': datetime.datetime(2019, 9, 20, 16, 0, tzinfo=tzutc()), 'failMonitorCount': 554.0, 'outlierPossibility': 1.3920870981757416, 'Threshold': -5},\n",
       " {'OutlierTimeStamp': datetime.datetime(2019, 9, 20, 16, 5, tzinfo=tzutc()), 'failMonitorCount': 470.0, 'outlierPossibility': 0.0, 'Threshold': -5},\n",
       " {'OutlierTimeStamp': datetime.datetime(2019, 9, 20, 15, 50, tzinfo=tzutc()), 'failMonitorCount': 464.0, 'outlierPossibility': 0.0, 'Threshold': -5},\n",
       " {'OutlierTimeStamp': datetime.datetime(2019, 9, 20, 15, 55, tzinfo=tzutc()), 'failMonitorCount': 444.0, 'outlierPossibility': -0.07712393895710475, 'Threshold': -5},\n",
       " {'OutlierTimeStamp': datetime.datetime(2019, 9, 20, 16, 15, tzinfo=tzutc()), 'failMonitorCount': 482.0, 'outlierPossibility': 0.0, 'Threshold': -5},\n",
       " {'OutlierTimeStamp': datetime.datetime(2019, 9, 20, 17, 50, tzinfo=tzutc()), 'failMonitorCount': 461.0, 'outlierPossibility': 0.0, 'Threshold': -5},\n",
       " {'OutlierTimeStamp': datetime.datetime(2019, 9, 20, 17, 40, tzinfo=tzutc()), 'failMonitorCount': 472.0, 'outlierPossibility': 0.0, 'Threshold': -5},\n",
       " {'OutlierTimeStamp': datetime.datetime(2019, 9, 20, 17, 45, tzinfo=tzutc()), 'failMonitorCount': 476.0, 'outlierPossibility': 0.0, 'Threshold': -5},\n",
       " {'OutlierTimeStamp': datetime.datetime(2019, 9, 20, 17, 35, tzinfo=tzutc()), 'failMonitorCount': 456.0, 'outlierPossibility': 0.0, 'Threshold': -5},\n",
       " {'OutlierTimeStamp': datetime.datetime(2019, 9, 20, 17, 10, tzinfo=tzutc()), 'failMonitorCount': 470.0, 'outlierPossibility': 0.0, 'Threshold': -5},\n",
       " {'OutlierTimeStamp': datetime.datetime(2019, 9, 20, 17, 15, tzinfo=tzutc()), 'failMonitorCount': 486.0, 'outlierPossibility': 0.0, 'Threshold': -5},\n",
       " {'OutlierTimeStamp': datetime.datetime(2019, 9, 20, 0, 55, tzinfo=tzutc()), 'failMonitorCount': 441.0, 'outlierPossibility': -0.19280984739276188, 'Threshold': -5},\n",
       " {'OutlierTimeStamp': datetime.datetime(2019, 9, 19, 23, 35, tzinfo=tzutc()), 'failMonitorCount': 454.0, 'outlierPossibility': 0.0, 'Threshold': -5},\n",
       " {'OutlierTimeStamp': datetime.datetime(2019, 9, 19, 23, 20, tzinfo=tzutc()), 'failMonitorCount': 479.0, 'outlierPossibility': 0.0, 'Threshold': -5},\n",
       " {'OutlierTimeStamp': datetime.datetime(2019, 9, 19, 23, 15, tzinfo=tzutc()), 'failMonitorCount': 488.0, 'outlierPossibility': 0.0, 'Threshold': -5},\n",
       " {'OutlierTimeStamp': datetime.datetime(2019, 9, 19, 23, 5, tzinfo=tzutc()), 'failMonitorCount': 459.0, 'outlierPossibility': 0.0, 'Threshold': -5},\n",
       " {'OutlierTimeStamp': datetime.datetime(2019, 9, 19, 23, 10, tzinfo=tzutc()), 'failMonitorCount': 475.0, 'outlierPossibility': 0.0, 'Threshold': -5},\n",
       " {'OutlierTimeStamp': datetime.datetime(2019, 9, 19, 23, 45, tzinfo=tzutc()), 'failMonitorCount': 477.0, 'outlierPossibility': 0.0, 'Threshold': -5},\n",
       " {'OutlierTimeStamp': datetime.datetime(2019, 9, 20, 0, 0, tzinfo=tzutc()), 'failMonitorCount': 564.0, 'outlierPossibility': 1.7777067929612653, 'Threshold': -5},\n",
       " {'OutlierTimeStamp': datetime.datetime(2019, 9, 20, 0, 5, tzinfo=tzutc()), 'failMonitorCount': 464.0, 'outlierPossibility': 0.0, 'Threshold': -5},\n",
       " {'OutlierTimeStamp': datetime.datetime(2019, 9, 20, 0, 10, tzinfo=tzutc()), 'failMonitorCount': 469.0, 'outlierPossibility': 0.0, 'Threshold': -5},\n",
       " {'OutlierTimeStamp': datetime.datetime(2019, 9, 20, 10, 25, tzinfo=tzutc()), 'failMonitorCount': 448.0, 'outlierPossibility': 0.0, 'Threshold': -5},\n",
       " {'OutlierTimeStamp': datetime.datetime(2019, 9, 20, 10, 30, tzinfo=tzutc()), 'failMonitorCount': 514.0, 'outlierPossibility': 0.0, 'Threshold': -5},\n",
       " {'OutlierTimeStamp': datetime.datetime(2019, 9, 20, 9, 50, tzinfo=tzutc()), 'failMonitorCount': 469.0, 'outlierPossibility': 0.0, 'Threshold': -5},\n",
       " {'OutlierTimeStamp': datetime.datetime(2019, 9, 20, 9, 55, tzinfo=tzutc()), 'failMonitorCount': 450.0, 'outlierPossibility': 0.0, 'Threshold': -5},\n",
       " {'OutlierTimeStamp': datetime.datetime(2019, 9, 20, 10, 50, tzinfo=tzutc()), 'failMonitorCount': 467.0, 'outlierPossibility': 0.0, 'Threshold': -5},\n",
       " {'OutlierTimeStamp': datetime.datetime(2019, 9, 20, 10, 45, tzinfo=tzutc()), 'failMonitorCount': 494.0, 'outlierPossibility': 0.0, 'Threshold': -5},\n",
       " {'OutlierTimeStamp': datetime.datetime(2019, 9, 20, 10, 5, tzinfo=tzutc()), 'failMonitorCount': 462.0, 'outlierPossibility': 0.0, 'Threshold': -5},\n",
       " {'OutlierTimeStamp': datetime.datetime(2019, 9, 20, 10, 0, tzinfo=tzutc()), 'failMonitorCount': 563.0, 'outlierPossibility': 1.739144823482713, 'Threshold': -5},\n",
       " {'OutlierTimeStamp': datetime.datetime(2019, 9, 20, 11, 20, tzinfo=tzutc()), 'failMonitorCount': 476.0, 'outlierPossibility': 0.0, 'Threshold': -5},\n",
       " {'OutlierTimeStamp': datetime.datetime(2019, 9, 19, 21, 50, tzinfo=tzutc()), 'failMonitorCount': 464.0, 'outlierPossibility': 0.0, 'Threshold': -5},\n",
       " {'OutlierTimeStamp': datetime.datetime(2019, 9, 19, 21, 55, tzinfo=tzutc()), 'failMonitorCount': 459.0, 'outlierPossibility': 0.0, 'Threshold': -5},\n",
       " {'OutlierTimeStamp': datetime.datetime(2019, 9, 20, 12, 30, tzinfo=tzutc()), 'failMonitorCount': 521.0, 'outlierPossibility': 0.11954210538351324, 'Threshold': -5},\n",
       " {'OutlierTimeStamp': datetime.datetime(2019, 9, 20, 0, 20, tzinfo=tzutc()), 'failMonitorCount': 475.0, 'outlierPossibility': 0.0, 'Threshold': -5},\n",
       " {'OutlierTimeStamp': datetime.datetime(2019, 9, 20, 0, 25, tzinfo=tzutc()), 'failMonitorCount': 444.0, 'outlierPossibility': -0.07712393895710475, 'Threshold': -5},\n",
       " {'OutlierTimeStamp': datetime.datetime(2019, 9, 20, 8, 50, tzinfo=tzutc()), 'failMonitorCount': 467.0, 'outlierPossibility': 0.0, 'Threshold': -5},\n",
       " {'OutlierTimeStamp': datetime.datetime(2019, 9, 20, 11, 25, tzinfo=tzutc()), 'failMonitorCount': 441.0, 'outlierPossibility': -0.19280984739276188, 'Threshold': -5},\n",
       " {'OutlierTimeStamp': datetime.datetime(2019, 9, 20, 2, 0, tzinfo=tzutc()), 'failMonitorCount': 555.0, 'outlierPossibility': 1.430649067654294, 'Threshold': -5},\n",
       " {'OutlierTimeStamp': datetime.datetime(2019, 9, 20, 2, 15, tzinfo=tzutc()), 'failMonitorCount': 486.0, 'outlierPossibility': 0.0, 'Threshold': -5},\n",
       " {'OutlierTimeStamp': datetime.datetime(2019, 9, 20, 2, 20, tzinfo=tzutc()), 'failMonitorCount': 477.0, 'outlierPossibility': 0.0, 'Threshold': -5},\n",
       " {'OutlierTimeStamp': datetime.datetime(2019, 9, 20, 18, 30, tzinfo=tzutc()), 'failMonitorCount': 508.0, 'outlierPossibility': 0.0, 'Threshold': -5},\n",
       " {'OutlierTimeStamp': datetime.datetime(2019, 9, 20, 18, 10, tzinfo=tzutc()), 'failMonitorCount': 473.0, 'outlierPossibility': 0.0, 'Threshold': -5},\n",
       " {'OutlierTimeStamp': datetime.datetime(2019, 9, 20, 15, 25, tzinfo=tzutc()), 'failMonitorCount': 443.0, 'outlierPossibility': -0.11568590843565714, 'Threshold': -5},\n",
       " {'OutlierTimeStamp': datetime.datetime(2019, 9, 20, 15, 45, tzinfo=tzutc()), 'failMonitorCount': 484.0, 'outlierPossibility': 0.0, 'Threshold': -5},\n",
       " {'OutlierTimeStamp': datetime.datetime(2019, 9, 20, 5, 35, tzinfo=tzutc()), 'failMonitorCount': 454.0, 'outlierPossibility': 0.0, 'Threshold': -5},\n",
       " {'OutlierTimeStamp': datetime.datetime(2019, 9, 20, 5, 0, tzinfo=tzutc()), 'failMonitorCount': 558.0, 'outlierPossibility': 1.5463349760899512, 'Threshold': -5},\n",
       " {'OutlierTimeStamp': datetime.datetime(2019, 9, 20, 5, 50, tzinfo=tzutc()), 'failMonitorCount': 472.0, 'outlierPossibility': 0.0, 'Threshold': -5},\n",
       " {'OutlierTimeStamp': datetime.datetime(2019, 9, 20, 19, 20, tzinfo=tzutc()), 'failMonitorCount': 472.0, 'outlierPossibility': 0.0, 'Threshold': -5},\n",
       " {'OutlierTimeStamp': datetime.datetime(2019, 9, 20, 19, 25, tzinfo=tzutc()), 'failMonitorCount': 440.0, 'outlierPossibility': -0.23137181687131428, 'Threshold': -5},\n",
       " {'OutlierTimeStamp': datetime.datetime(2019, 9, 20, 19, 30, tzinfo=tzutc()), 'failMonitorCount': 509.0, 'outlierPossibility': 0.0, 'Threshold': -5},\n",
       " {'OutlierTimeStamp': datetime.datetime(2019, 9, 20, 19, 0, tzinfo=tzutc()), 'failMonitorCount': 554.0, 'outlierPossibility': 1.3920870981757416, 'Threshold': -5},\n",
       " {'OutlierTimeStamp': datetime.datetime(2019, 9, 20, 18, 5, tzinfo=tzutc()), 'failMonitorCount': 465.0, 'outlierPossibility': 0.0, 'Threshold': -5},\n",
       " {'OutlierTimeStamp': datetime.datetime(2019, 9, 20, 15, 0, tzinfo=tzutc()), 'failMonitorCount': 559.0, 'outlierPossibility': 1.5848969455685036, 'Threshold': -5},\n",
       " {'OutlierTimeStamp': datetime.datetime(2019, 9, 20, 15, 15, tzinfo=tzutc()), 'failMonitorCount': 487.0, 'outlierPossibility': 0.0, 'Threshold': -5},\n",
       " {'OutlierTimeStamp': datetime.datetime(2019, 9, 20, 15, 20, tzinfo=tzutc()), 'failMonitorCount': 465.0, 'outlierPossibility': 0.0, 'Threshold': -5},\n",
       " {'OutlierTimeStamp': datetime.datetime(2019, 9, 20, 6, 50, tzinfo=tzutc()), 'failMonitorCount': 468.0, 'outlierPossibility': 0.0, 'Threshold': -5},\n",
       " {'OutlierTimeStamp': datetime.datetime(2019, 9, 20, 6, 45, tzinfo=tzutc()), 'failMonitorCount': 494.0, 'outlierPossibility': 0.0, 'Threshold': -5},\n",
       " {'OutlierTimeStamp': datetime.datetime(2019, 9, 20, 7, 15, tzinfo=tzutc()), 'failMonitorCount': 497.0, 'outlierPossibility': 0.0, 'Threshold': -5},\n",
       " {'OutlierTimeStamp': datetime.datetime(2019, 9, 20, 2, 25, tzinfo=tzutc()), 'failMonitorCount': 442.0, 'outlierPossibility': -0.1542478779142095, 'Threshold': -5},\n",
       " {'OutlierTimeStamp': datetime.datetime(2019, 9, 20, 3, 45, tzinfo=tzutc()), 'failMonitorCount': 494.0, 'outlierPossibility': 0.0, 'Threshold': -5},\n",
       " {'OutlierTimeStamp': datetime.datetime(2019, 9, 20, 4, 5, tzinfo=tzutc()), 'failMonitorCount': 473.0, 'outlierPossibility': 0.0, 'Threshold': -5},\n",
       " {'OutlierTimeStamp': datetime.datetime(2019, 9, 20, 4, 10, tzinfo=tzutc()), 'failMonitorCount': 479.0, 'outlierPossibility': 0.0, 'Threshold': -5},\n",
       " {'OutlierTimeStamp': datetime.datetime(2019, 9, 20, 4, 0, tzinfo=tzutc()), 'failMonitorCount': 566.0, 'outlierPossibility': 1.8548307319183703, 'Threshold': -5},\n",
       " {'OutlierTimeStamp': datetime.datetime(2019, 9, 20, 3, 30, tzinfo=tzutc()), 'failMonitorCount': 519.0, 'outlierPossibility': 0.04241816642640849, 'Threshold': -5},\n",
       " {'OutlierTimeStamp': datetime.datetime(2019, 9, 19, 22, 20, tzinfo=tzutc()), 'failMonitorCount': 474.0, 'outlierPossibility': 0.0, 'Threshold': -5},\n",
       " {'OutlierTimeStamp': datetime.datetime(2019, 9, 19, 21, 15, tzinfo=tzutc()), 'failMonitorCount': 488.0, 'outlierPossibility': 0.0, 'Threshold': -5},\n",
       " {'OutlierTimeStamp': datetime.datetime(2019, 9, 20, 15, 40, tzinfo=tzutc()), 'failMonitorCount': 470.0, 'outlierPossibility': 0.0, 'Threshold': -5},\n",
       " {'OutlierTimeStamp': datetime.datetime(2019, 9, 20, 8, 35, tzinfo=tzutc()), 'failMonitorCount': 452.0, 'outlierPossibility': 0.0, 'Threshold': -5},\n",
       " {'OutlierTimeStamp': datetime.datetime(2019, 9, 20, 7, 40, tzinfo=tzutc()), 'failMonitorCount': 472.0, 'outlierPossibility': 0.0, 'Threshold': -5},\n",
       " {'OutlierTimeStamp': datetime.datetime(2019, 9, 20, 9, 10, tzinfo=tzutc()), 'failMonitorCount': 477.0, 'outlierPossibility': 0.0, 'Threshold': -5},\n",
       " {'OutlierTimeStamp': datetime.datetime(2019, 9, 20, 11, 55, tzinfo=tzutc()), 'failMonitorCount': 454.0, 'outlierPossibility': 0.0, 'Threshold': -5},\n",
       " {'OutlierTimeStamp': datetime.datetime(2019, 9, 20, 11, 45, tzinfo=tzutc()), 'failMonitorCount': 489.0, 'outlierPossibility': 0.0, 'Threshold': -5},\n",
       " {'OutlierTimeStamp': datetime.datetime(2019, 9, 20, 11, 50, tzinfo=tzutc()), 'failMonitorCount': 468.0, 'outlierPossibility': 0.0, 'Threshold': -5},\n",
       " {'OutlierTimeStamp': datetime.datetime(2019, 9, 19, 21, 20, tzinfo=tzutc()), 'failMonitorCount': 473.0, 'outlierPossibility': 0.0, 'Threshold': -5},\n",
       " {'OutlierTimeStamp': datetime.datetime(2019, 9, 20, 12, 0, tzinfo=tzutc()), 'failMonitorCount': 563.0, 'outlierPossibility': 1.739144823482713, 'Threshold': -5},\n",
       " {'OutlierTimeStamp': datetime.datetime(2019, 9, 20, 12, 5, tzinfo=tzutc()), 'failMonitorCount': 467.0, 'outlierPossibility': 0.0, 'Threshold': -5},\n",
       " {'OutlierTimeStamp': datetime.datetime(2019, 9, 20, 7, 30, tzinfo=tzutc()), 'failMonitorCount': 512.0, 'outlierPossibility': 0.0, 'Threshold': -5},\n",
       " {'OutlierTimeStamp': datetime.datetime(2019, 9, 20, 7, 0, tzinfo=tzutc()), 'failMonitorCount': 557.0, 'outlierPossibility': 1.5077730066113988, 'Threshold': -5},\n",
       " {'OutlierTimeStamp': datetime.datetime(2019, 9, 20, 7, 35, tzinfo=tzutc()), 'failMonitorCount': 451.0, 'outlierPossibility': 0.0, 'Threshold': -5},\n",
       " {'OutlierTimeStamp': datetime.datetime(2019, 9, 20, 2, 45, tzinfo=tzutc()), 'failMonitorCount': 476.0, 'outlierPossibility': 0.0, 'Threshold': -5},\n",
       " {'OutlierTimeStamp': datetime.datetime(2019, 9, 20, 3, 40, tzinfo=tzutc()), 'failMonitorCount': 475.0, 'outlierPossibility': 0.0, 'Threshold': -5},\n",
       " {'OutlierTimeStamp': datetime.datetime(2019, 9, 20, 2, 10, tzinfo=tzutc()), 'failMonitorCount': 464.0, 'outlierPossibility': 0.0, 'Threshold': -5},\n",
       " {'OutlierTimeStamp': datetime.datetime(2019, 9, 20, 1, 45, tzinfo=tzutc()), 'failMonitorCount': 484.0, 'outlierPossibility': 0.0, 'Threshold': -5},\n",
       " {'OutlierTimeStamp': datetime.datetime(2019, 9, 20, 16, 55, tzinfo=tzutc()), 'failMonitorCount': 449.0, 'outlierPossibility': 0.0, 'Threshold': -5},\n",
       " {'OutlierTimeStamp': datetime.datetime(2019, 9, 20, 17, 5, tzinfo=tzutc()), 'failMonitorCount': 463.0, 'outlierPossibility': 0.0, 'Threshold': -5},\n",
       " {'OutlierTimeStamp': datetime.datetime(2019, 9, 20, 18, 25, tzinfo=tzutc()), 'failMonitorCount': 444.0, 'outlierPossibility': -0.07712393895710475, 'Threshold': -5},\n",
       " {'OutlierTimeStamp': datetime.datetime(2019, 9, 20, 9, 0, tzinfo=tzutc()), 'failMonitorCount': 559.0, 'outlierPossibility': 1.5848969455685036, 'Threshold': -5},\n",
       " {'OutlierTimeStamp': datetime.datetime(2019, 9, 20, 8, 45, tzinfo=tzutc()), 'failMonitorCount': 488.0, 'outlierPossibility': 0.0, 'Threshold': -5},\n",
       " {'OutlierTimeStamp': datetime.datetime(2019, 9, 20, 9, 5, tzinfo=tzutc()), 'failMonitorCount': 468.0, 'outlierPossibility': 0.0, 'Threshold': -5},\n",
       " {'OutlierTimeStamp': datetime.datetime(2019, 9, 20, 7, 20, tzinfo=tzutc()), 'failMonitorCount': 475.0, 'outlierPossibility': 0.0, 'Threshold': -5},\n",
       " {'OutlierTimeStamp': datetime.datetime(2019, 9, 20, 18, 0, tzinfo=tzutc()), 'failMonitorCount': 559.0, 'outlierPossibility': 1.5848969455685036, 'Threshold': -5},\n",
       " {'OutlierTimeStamp': datetime.datetime(2019, 9, 20, 17, 55, tzinfo=tzutc()), 'failMonitorCount': 446.0, 'outlierPossibility': 0.0, 'Threshold': -5},\n",
       " {'OutlierTimeStamp': datetime.datetime(2019, 9, 20, 19, 45, tzinfo=tzutc()), 'failMonitorCount': 47.0, 'outlierPossibility': -15.386225821942398, 'Threshold': -5},\n",
       " {'OutlierTimeStamp': datetime.datetime(2019, 9, 20, 19, 40, tzinfo=tzutc()), 'failMonitorCount': 44.0, 'outlierPossibility': -15.501911730378056, 'Threshold': -5},\n",
       " {'OutlierTimeStamp': datetime.datetime(2019, 9, 20, 13, 55, tzinfo=tzutc()), 'failMonitorCount': 447.0, 'outlierPossibility': 0.0, 'Threshold': -5},\n",
       " {'OutlierTimeStamp': datetime.datetime(2019, 9, 20, 14, 0, tzinfo=tzutc()), 'failMonitorCount': 561.0, 'outlierPossibility': 1.6620208845256081, 'Threshold': -5},\n",
       " {'OutlierTimeStamp': datetime.datetime(2019, 9, 20, 13, 25, tzinfo=tzutc()), 'failMonitorCount': 447.0, 'outlierPossibility': 0.0, 'Threshold': -5},\n",
       " {'OutlierTimeStamp': datetime.datetime(2019, 9, 20, 10, 55, tzinfo=tzutc()), 'failMonitorCount': 451.0, 'outlierPossibility': 0.0, 'Threshold': -5},\n",
       " {'OutlierTimeStamp': datetime.datetime(2019, 9, 20, 8, 40, tzinfo=tzutc()), 'failMonitorCount': 475.0, 'outlierPossibility': 0.0, 'Threshold': -5},\n",
       " {'OutlierTimeStamp': datetime.datetime(2019, 9, 20, 6, 15, tzinfo=tzutc()), 'failMonitorCount': 496.0, 'outlierPossibility': 0.0, 'Threshold': -5},\n",
       " {'OutlierTimeStamp': datetime.datetime(2019, 9, 20, 8, 20, tzinfo=tzutc()), 'failMonitorCount': 480.0, 'outlierPossibility': 0.0, 'Threshold': -5},\n",
       " {'OutlierTimeStamp': datetime.datetime(2019, 9, 20, 7, 10, tzinfo=tzutc()), 'failMonitorCount': 473.0, 'outlierPossibility': 0.0, 'Threshold': -5},\n",
       " {'OutlierTimeStamp': datetime.datetime(2019, 9, 20, 7, 5, tzinfo=tzutc()), 'failMonitorCount': 470.0, 'outlierPossibility': 0.0, 'Threshold': -5},\n",
       " {'OutlierTimeStamp': datetime.datetime(2019, 9, 20, 6, 20, tzinfo=tzutc()), 'failMonitorCount': 472.0, 'outlierPossibility': 0.0, 'Threshold': -5},\n",
       " {'OutlierTimeStamp': datetime.datetime(2019, 9, 20, 6, 25, tzinfo=tzutc()), 'failMonitorCount': 446.0, 'outlierPossibility': 0.0, 'Threshold': -5},\n",
       " {'OutlierTimeStamp': datetime.datetime(2019, 9, 20, 6, 30, tzinfo=tzutc()), 'failMonitorCount': 522.0, 'outlierPossibility': 0.15810407486206562, 'Threshold': -5},\n",
       " {'OutlierTimeStamp': datetime.datetime(2019, 9, 20, 6, 10, tzinfo=tzutc()), 'failMonitorCount': 472.0, 'outlierPossibility': 0.0, 'Threshold': -5},\n",
       " {'OutlierTimeStamp': datetime.datetime(2019, 9, 20, 7, 25, tzinfo=tzutc()), 'failMonitorCount': 442.0, 'outlierPossibility': -0.1542478779142095, 'Threshold': -5},\n",
       " {'OutlierTimeStamp': datetime.datetime(2019, 9, 20, 13, 20, tzinfo=tzutc()), 'failMonitorCount': 474.0, 'outlierPossibility': 0.0, 'Threshold': -5},\n",
       " {'OutlierTimeStamp': datetime.datetime(2019, 9, 20, 14, 35, tzinfo=tzutc()), 'failMonitorCount': 455.0, 'outlierPossibility': 0.0, 'Threshold': -5},\n",
       " {'OutlierTimeStamp': datetime.datetime(2019, 9, 20, 1, 35, tzinfo=tzutc()), 'failMonitorCount': 455.0, 'outlierPossibility': 0.0, 'Threshold': -5},\n",
       " {'OutlierTimeStamp': datetime.datetime(2019, 9, 20, 19, 50, tzinfo=tzutc()), 'failMonitorCount': 49.0, 'outlierPossibility': -15.309101882985292, 'Threshold': -5},\n",
       " {'OutlierTimeStamp': datetime.datetime(2019, 9, 20, 19, 35, tzinfo=tzutc()), 'failMonitorCount': 200.0, 'outlierPossibility': -9.486244491723884, 'Threshold': -5},\n",
       " {'OutlierTimeStamp': datetime.datetime(2019, 9, 20, 18, 40, tzinfo=tzutc()), 'failMonitorCount': 464.0, 'outlierPossibility': 0.0, 'Threshold': -5},\n",
       " {'OutlierTimeStamp': datetime.datetime(2019, 9, 20, 18, 45, tzinfo=tzutc()), 'failMonitorCount': 490.0, 'outlierPossibility': 0.0, 'Threshold': -5},\n",
       " {'OutlierTimeStamp': datetime.datetime(2019, 9, 20, 18, 35, tzinfo=tzutc()), 'failMonitorCount': 444.0, 'outlierPossibility': -0.07712393895710475, 'Threshold': -5},\n",
       " {'OutlierTimeStamp': datetime.datetime(2019, 9, 20, 18, 20, tzinfo=tzutc()), 'failMonitorCount': 475.0, 'outlierPossibility': 0.0, 'Threshold': -5},\n",
       " {'OutlierTimeStamp': datetime.datetime(2019, 9, 20, 18, 15, tzinfo=tzutc()), 'failMonitorCount': 489.0, 'outlierPossibility': 0.0, 'Threshold': -5}]"
      ]
     },
     "execution_count": 30,
     "metadata": {},
     "output_type": "execute_result"
    }
   ],
   "source": [
    "%%kql\n",
    "let _alertTime_ = _AlertTime_;\n",
    "let endTime = todatetime(_alertTime_);\n",
    "let _upperOutlier_ = _UpperOutlier_;\n",
    "let _lowerOutlier_ = _LowerOutlier_;\n",
    "let _service_ = _Service_;\n",
    "let _scaleUnit_ = _ScaleUnit_;\n",
    "let _runResult_ = _RunResult_;\n",
    "JobHistory\n",
    "| where TIMESTAMP > bin(endTime - 1d, 5m) and TIMESTAMP <= bin(endTime - 30m, 5m) // take proper time range to avoid spikes around the time boundary\n",
    "| where Service == _service_\n",
    "| where ScaleUnit == _scaleUnit_\n",
    "| where Plugin == \"Microsoft.VisualStudio.Services.Kalypso.Jobs.ZeroRowMonitor\"\n",
    "| where ResultMessage contains \"Monitor run result\" \n",
    "| project TIMESTAMP, JobName, Plugin, ResultMessage \n",
    "| extend RunResult = case(ResultMessage contains \"Monitor run result: Succeeded\", \"Succeeded\",\n",
    "ResultMessage contains \"Monitor run result: SignaledWithError\", \"SignaledWithError\",\n",
    "ResultMessage contains \"Monitor run result: Signaled\", \"Signaled\",\n",
    "ResultMessage contains \"Monitor run result: UserError\", \"UserError\",\n",
    "ResultMessage contains \"Monitor run result: PlatformError\", \"PlatformError\",\n",
    "\"Default\")\n",
    "| where RunResult == _runResult_\n",
    "| summarize count() by bin(TIMESTAMP, 5m)\n",
    "| summarize OutlierTimeStamp=makelist(TIMESTAMP, 50000), failMonitorCount = makelist(count_, 50000) \n",
    "| extend outlierPossibility=series_outliers(failMonitorCount)\n",
    "| mvexpand OutlierTimeStamp to typeof(datetime), failMonitorCount to typeof(double), outlierPossibility to typeof(double) limit 50000\n",
    "| extend Threshold = iff(_runResult_ == \"UserError\" or _runResult_ == \"PlatformError\", _upperOutlier_, _lowerOutlier_)\n",
    "| render timechart with (title = \"Number of monitors failing over last 24 hours\", ycolumns = failMonitorCount, outlierPossibility, Threshold)"
   ]
  },
  {
   "cell_type": "markdown",
   "metadata": {},
   "source": [
    "## Top 5 Exceptions thrown by monitors failing with UserError\n",
    "ProductTrace table will log the exceptions occurred during monitor execution. Let's examine ProductTrace to get the top exceptions thrown by failing monitors."
   ]
  },
  {
   "cell_type": "code",
   "execution_count": 31,
   "metadata": {},
   "outputs": [
    {
     "data": {
      "text/html": [
       "<html>\n",
       "        <head>\n",
       "        \n",
       "        </head>\n",
       "        <body>\n",
       "        <div><p style='padding: 10px; color: #3a87ad; background-color: #d9edf7; border-color: #bce9f1'>&nbsp;*&nbsp;vso@vso</p></div>\n",
       "        </body>\n",
       "        </html>"
      ],
      "text/plain": [
       "<IPython.core.display.HTML object>"
      ]
     },
     "metadata": {},
     "output_type": "display_data"
    },
    {
     "data": {
      "text/html": [
       "<html>\n",
       "        <head>\n",
       "        \n",
       "        </head>\n",
       "        <body>\n",
       "        <table>\n",
       "    <tr>\n",
       "        <th>ExceptionType</th>\n",
       "        <th>count_</th>\n",
       "    </tr>\n",
       "    <tr>\n",
       "        <td>Microsoft.TeamFoundation.Framework.Server.HostShutdownException</td>\n",
       "        <td>3</td>\n",
       "    </tr>\n",
       "</table>\n",
       "        </body>\n",
       "        </html>"
      ],
      "text/plain": [
       "<IPython.core.display.HTML object>"
      ]
     },
     "metadata": {},
     "output_type": "display_data"
    },
    {
     "data": {
      "text/html": [
       "<html>\n",
       "        <head>\n",
       "        \n",
       "        </head>\n",
       "        <body>\n",
       "        <div><p style='padding: 10px; color: #3a87ad; background-color: #d9edf7; border-color: #bce9f1'>Done&nbsp;(00:00.682):&nbsp;1&nbsp;records</p></div>\n",
       "        </body>\n",
       "        </html>"
      ],
      "text/plain": [
       "<IPython.core.display.HTML object>"
      ]
     },
     "metadata": {},
     "output_type": "display_data"
    },
    {
     "data": {
      "text/html": [],
      "text/plain": [
       "[{'ExceptionType': 'Microsoft.TeamFoundation.Framework.Server.HostShutdownException', 'count_': 3}]"
      ]
     },
     "execution_count": 31,
     "metadata": {},
     "output_type": "execute_result"
    }
   ],
   "source": [
    "%%kql\n",
    "let _alertTime_ = _AlertTime_;\n",
    "let endTime = todatetime(_alertTime_);\n",
    "let _upperOutlier_ = _UpperOutlier_;\n",
    "let _lowerOutlier_ = _LowerOutlier_;\n",
    "let _service_ = _Service_;\n",
    "let _scaleUnit_ = _ScaleUnit_;\n",
    "let _runResult_ = _RunResult_;\n",
    "ProductTrace\n",
    "| where Service == _service_ and ScaleUnit == _scaleUnit_ and ExceptionType != \"\"\n",
    "| where TIMESTAMP > endTime - 1h and TIMESTAMP < endTime\n",
    "| join kind=inner (\n",
    "    JobHistory\n",
    "    | where Service == _service_ and ScaleUnit == _scaleUnit_\n",
    "    | where TIMESTAMP > todatetime(_alertTime_) - 1h\n",
    "    | where Plugin == \"Microsoft.VisualStudio.Services.Kalypso.Jobs.ZeroRowMonitor\"\n",
    "    | where ResultMessage contains \"Monitor run result\" \n",
    "    | project ActivityId, TIMESTAMP, JobName, Plugin, ResultMessage \n",
    "    | extend RunResult = case(ResultMessage contains \"Monitor run result: Succeeded\", \"Succeeded\",\n",
    "        ResultMessage contains \"Monitor run result: SignaledWithError\", \"SignaledWithError\",\n",
    "        ResultMessage contains \"Monitor run result: Signaled\", \"Signaled\",\n",
    "        ResultMessage contains \"Monitor run result: UserError\", \"UserError\",\n",
    "        ResultMessage contains \"Monitor run result: PlatformError\", \"PlatformError\",\n",
    "        \"Default\")\n",
    "    | where RunResult == _runResult_\n",
    ") on ActivityId\n",
    "| project TIMESTAMP, ExceptionType, Message, JobName, ResultMessage\n",
    "| summarize count() by ExceptionType\n",
    "| top 5 by count_"
   ]
  },
  {
   "cell_type": "code",
   "execution_count": 32,
   "metadata": {},
   "outputs": [
    {
     "data": {
      "text/markdown": [
       "Unknown exception. Please investigate further and update the dynamic TSG"
      ],
      "text/plain": [
       "<IPython.core.display.Markdown object>"
      ]
     },
     "metadata": {},
     "output_type": "display_data"
    }
   ],
   "source": [
    "df_exception = _kql_raw_result_.to_dataframe()\n",
    "top_5_exception_types = df_exception['ExceptionType'].tolist()\n",
    "if  \"Kusto.Data.Exceptions.KustoClientTimeoutException\" in top_5_exception_types or \"Kusto.Data.Exceptions.KustoClientException\" in top_5_exception_types:\n",
    "    printmd(\"Issue is from Kusto side. Check the health of the cluster. If the health of the cluster is bad, raise a ticket againts kusto team\")\n",
    "elif \"Kusto.Data.Exceptions.SyntaxException\" in top_5_exception_types or \"Kusto.Data.Exceptions.KustoBadRequestException\" in top_5_exception_types or \"Kusto.Data.Exceptions.EntityNotFoundException\" in top_5_exception_types:\n",
    "    printmd(\"Bad monitors might have been added. Monitors are failing because the trigger query has syntax errors. As a mitigation step, work with monitor owners to disable the monitor and ask them to fix the query.\")\n",
    "elif \"Kusto.Data.Exceptions.KustoRequestDeniedException\" in top_5_exception_types:\n",
    "    printmd(\"The app id used to query data from kusto endpoint doesn't have enough permissions. Work with monitor owner to add kalypso's appId / appId stored in keyvault to kusto cluster\")\n",
    "elif \"Kusto.Data.Exceptions.SemanticException\" in top_5_exception_types:\n",
    "    printmd(\"Top exception thrown is SemanticException. This might be because of user error or access issue. Follow below steps to mitigate the issue.\")\n",
    "else:\n",
    "    printmd(\"Unknown exception. Please investigate further and update the dynamic TSG\")"
   ]
  },
  {
   "cell_type": "code",
   "execution_count": 33,
   "metadata": {},
   "outputs": [
    {
     "data": {
      "text/markdown": [
       "Examine the error message in stack trace."
      ],
      "text/plain": [
       "<IPython.core.display.Markdown object>"
      ]
     },
     "metadata": {},
     "output_type": "display_data"
    }
   ],
   "source": [
    "printmd(\"Examine the error message in stack trace.\")"
   ]
  },
  {
   "cell_type": "code",
   "execution_count": 34,
   "metadata": {},
   "outputs": [
    {
     "data": {
      "text/html": [
       "<html>\n",
       "        <head>\n",
       "        \n",
       "        </head>\n",
       "        <body>\n",
       "        <div><p style='padding: 10px; color: #3a87ad; background-color: #d9edf7; border-color: #bce9f1'>&nbsp;*&nbsp;vso@vso</p></div>\n",
       "        </body>\n",
       "        </html>"
      ],
      "text/plain": [
       "<IPython.core.display.HTML object>"
      ]
     },
     "metadata": {},
     "output_type": "display_data"
    },
    {
     "data": {
      "text/html": [
       "<html>\n",
       "        <head>\n",
       "        \n",
       "        </head>\n",
       "        <body>\n",
       "        <table>\n",
       "    <tr>\n",
       "        <th>TIMESTAMP</th>\n",
       "        <th>ExceptionType</th>\n",
       "        <th>Message</th>\n",
       "        <th>JobName</th>\n",
       "        <th>ResultMessage</th>\n",
       "    </tr>\n",
       "    <tr>\n",
       "        <td>2019-09-20 19:56:54.829144+00:00</td>\n",
       "        <td>Microsoft.TeamFoundation.Framework.Server.HostShutdownException</td>\n",
       "        <td>Microsoft.TeamFoundation.Framework.Server.HostShutdownException: VS403201: The organization is currently offline as it is being moved to another enterprise. Once the move has been completed the organization will come back online. Try accessing the organization at a later time. Activity Id: 7b36f2c8-498a-4dcd-a474-d4ff478bf08c.\r",
       "<br>   at Microsoft.VisualStudio.Services.WebApi.VssHttpClientBase.&lt;HandleResponseAsync&gt;d__53.MoveNext() in D:\\v2.0\\P1\\_work\\7\\s\\Vssf\\Client\\WebApi\\VssHttpClientBase.cs:line 935\r",
       "<br>--- End of stack trace from previous location where exception was thrown ---\r",
       "<br>   at System.Runtime.ExceptionServices.ExceptionDispatchInfo.Throw()\r",
       "<br>   at System.Runtime.CompilerServices.TaskAwaiter.HandleNonSuccessAndDebuggerNotification(Task task)\r",
       "<br>   at Microsoft.VisualStudio.Services.WebApi.VssHttpClientBase.&lt;SendAsync&gt;d__51.MoveNext() in D:\\v2.0\\P1\\_work\\7\\s\\Vssf\\Client\\WebApi\\VssHttpClientBase.cs:line 883\r",
       "<br>--- End of stack trace from previous location where exception was thrown ---\r",
       "<br>   at System.Runtime.ExceptionServices.ExceptionDispatchInfo.Throw()\r",
       "<br>   at System.Runtime.CompilerServices.TaskAwaiter.HandleNonSuccessAndDebuggerNotification(Task task)\r",
       "<br>   at Microsoft.VisualStudio.Services.WebApi.VssHttpClientBase.&lt;SendAsync&gt;d__47`1.MoveNext() in D:\\v2.0\\P1\\_work\\7\\s\\Vssf\\Client\\WebApi\\VssHttpClientBase.cs:line 755\r",
       "<br>--- End of stack trace from previous location where exception was thrown ---\r",
       "<br>   at System.Runtime.ExceptionServices.ExceptionDispatchInfo.Throw()\r",
       "<br>   at System.Runtime.CompilerServices.TaskAwaiter.HandleNonSuccessAndDebuggerNotification(Task task)\r",
       "<br>   at Microsoft.VisualStudio.Services.Location.Client.LocationHttpClient.&lt;GetConnectionDataAsync&gt;d__6.MoveNext() in D:\\v2.0\\P1\\_work\\7\\s\\Vssf\\Client\\WebApi\\HttpClients\\LocationHttpClient.cs:line 73\r",
       "<br>--- End of stack trace from previous location where exception was thrown ---\r",
       "<br>   at System.Runtime.ExceptionServices.ExceptionDispatchInfo.Throw()\r",
       "<br>   at System.Runtime.CompilerServices.TaskAwaiter.HandleNonSuccessAndDebuggerNotification(Task task)\r",
       "<br>   at Microsoft.VisualStudio.Services.Location.Server.RemoteLocationDataProvider.FetchLocationData(IVssRequestContext requestContext) in D:\\v2.0\\P1\\_work\\7\\s\\Vssf\\Sdk\\Server\\Location\\RemoteLocationDataProvider.cs:line 297\r",
       "<br>   at Microsoft.VisualStudio.Services.Location.Server.LocationDataProvider.&lt;GetLocationData&gt;b__43_0(IVssRequestContext request, String key) in D:\\v2.0\\P1\\_work\\7\\s\\Vssf\\Sdk\\Server\\Location\\LocationDataProvider.cs:line 1395\r",
       "<br>   at Microsoft.VisualStudio.Services.Location.Server.LocationDataCache`1.GetLocationData(IVssRequestContext requestContext, T cacheKeyIdentifier, Func`3 loadData) in D:\\v2.0\\P1\\_work\\7\\s\\Vssf\\Sdk\\Server\\Location\\LocationCache.cs:line 152\r",
       "<br>   at Microsoft.VisualStudio.Services.Location.Server.LocationDataProvider.GetLocationData(IVssRequestContext requestContext) in D:\\v2.0\\P1\\_work\\7\\s\\Vssf\\Sdk\\Server\\Location\\LocationDataProvider.cs:line 1382\r",
       "<br>   at Microsoft.VisualStudio.Services.Location.Server.RemoteLocationDataProvider..ctor(IVssRequestContext requestContext, ILocationDataCache`1 locationCache, String remoteLocationUrl) in D:\\v2.0\\P1\\_work\\7\\s\\Vssf\\Sdk\\Server\\Location\\RemoteLocationDataProvider.cs:line 41\r",
       "<br>   at Microsoft.VisualStudio.Services.Location.Server.LocationService.CreateRemoteDataProvider(IVssRequestContext requestContext, String location) in D:\\v2.0\\P1\\_work\\7\\s\\Vssf\\Sdk\\Server\\Location\\LocationService.cs:line 404\r",
       "<br>   at Microsoft.VisualStudio.Services.Location.Server.LocationService.ResolveLocationData(IVssRequestContext requestContext, Guid serviceAreaIdentifier) in D:\\v2.0\\P1\\_work\\7\\s\\Vssf\\Sdk\\Server\\Location\\LocationService.cs:line 312\r",
       "<br>   at Microsoft.VisualStudio.Services.Location.Server.LocationService.GetLocationData(IVssRequestContext requestContext, Guid serviceAreaIdentifier, Boolean throwOnMissingArea) in D:\\v2.0\\P1\\_work\\7\\s\\Vssf\\Sdk\\Server\\Location\\LocationService.cs:line 221\r",
       "<br>   at Microsoft.TeamFoundation.Framework.Server.ClientProvider.CreateClient(IVssRequestContext requestContext, Type requestedType, Guid serviceAreaId, Guid serviceIdentifier) in D:\\v2.0\\P1\\_work\\7\\s\\Vssf\\Sdk\\Server\\BusinessLogic\\ClientProvider.cs:line 355\r",
       "<br>   at Microsoft.TeamFoundation.Framework.Server.ClientProvider.GetClientImpl[T](IVssRequestContext requestContext, Guid serviceAreaId, Guid serviceIdentifier) in D:\\v2.0\\P1\\_work\\7\\s\\Vssf\\Sdk\\Server\\BusinessLogic\\ClientProvider.cs:line 274\r",
       "<br>   at Microsoft.TeamFoundation.Framework.Server.ClientProvider.GetClient[T](IVssRequestContext requestContext) in D:\\v2.0\\P1\\_work\\7\\s\\Vssf\\Sdk\\Server\\BusinessLogic\\ClientProvider.cs:line 222\r",
       "<br>   at Microsoft.VisualStudio.Services.Identity.FrameworkIdentityStore.&lt;&gt;c__DisplayClass27_1.&lt;ReadIdentities&gt;b__3() in D:\\v2.0\\P1\\_work\\7\\s\\Vssf\\Sdk\\Server\\Identity\\FrameworkIdentityStore.cs:line 1277\r",
       "<br>   at Microsoft.VisualStudio.Services.Identity.FrameworkIdentityStore.SafeReadIdentities(IVssRequestContext requestContext, Func`1 happyPath, Func`1 onExceptionResults) in D:\\v2.0\\P1\\_work\\7\\s\\Vssf\\Sdk\\Server\\Identity\\FrameworkIdentityStore.cs:line 1550\r",
       "<br>   at Microsoft.VisualStudio.Services.Identity.FrameworkIdentityStore.ReadIdentities(IVssRequestContext requestContext, IdentityDomain hostDomain, IList`1 identityIds, QueryMembership queryMembership, IEnumerable`1 propertyNameFilters, Boolean includeRestrictedVisibility) in D:\\v2.0\\P1\\_work\\7\\s\\Vssf\\Sdk\\Server\\Identity\\FrameworkIdentityStore.cs:line 1261\r",
       "<br>   at Microsoft.VisualStudio.Services.Identity.FrameworkIdentityService.ReadIdentities(IVssRequestContext requestContext, IList`1 identityIds, QueryMembership queryMembership, IEnumerable`1 propertyNameFilters, Boolean includeRestrictedVisibility) in D:\\v2.0\\P1\\_work\\7\\s\\Vssf\\Sdk\\Server\\Identity\\FrameworkIdentityService.cs:line 886\r",
       "<br>   at Microsoft.VisualStudio.Services.Identity.CompositeIdentityService.ReadIdentities(IVssRequestContext requestContext, IList`1 identityIds, QueryMembership queryMembership, IEnumerable`1 propertyNameFilters, Boolean includeRestrictedVisibility) in D:\\v2.0\\P1\\_work\\7\\s\\Vssf\\Sdk\\Server\\Identity\\CompositeIdentityService.cs:line 534\r",
       "<br>   at Microsoft.VisualStudio.Services.Kalypso.Server.IdentityHelper.GetIdentities(IVssRequestContext requestContext, IdentityService identityService, IEnumerable`1 identityIds) in D:\\v2.0\\P1\\_work\\7\\s\\Kalypso\\Service\\Server\\IdentityHelper.cs:line 127\r",
       "<br>   at Microsoft.VisualStudio.Services.Kalypso.Server.IdentityHelper.QueryIdentities(IVssRequestContext context, IList`1 identityIds) in D:\\v2.0\\P1\\_work\\7\\s\\Kalypso\\Service\\Server\\IdentityHelper.cs:line 27\r",
       "<br>   at Microsoft.VisualStudio.Services.Kalypso.Server.ServiceHelpers.FillIdentityInformation(IVssRequestContext requestContext, ItemMetadata itemMetadata) in D:\\v2.0\\P1\\_work\\7\\s\\Kalypso\\Service\\Server\\Health\\Monitors\\ServiceHelpers.cs:line 21</td>\n",
       "        <td>Monitor: name: VssHealthAgent auto-mitigation, category: QueryResultMonitor</td>\n",
       "        <td>Running ZeroRowMonitor: VssHealthAgent auto-mitigation. container: OrgSearch\r",
       "<br>RunId: 00000000-0000-0000-0000-000000000000\r",
       "<br>Stage 1 of 1\r",
       "<br>Monitor run result: Succeeded\r",
       "<br></td>\n",
       "    </tr>\n",
       "    <tr>\n",
       "        <td>2019-09-20 19:56:54.828661+00:00</td>\n",
       "        <td>Microsoft.TeamFoundation.Framework.Server.HostShutdownException</td>\n",
       "        <td>Microsoft.TeamFoundation.Framework.Server.HostShutdownException: VS403201: The organization is currently offline as it is being moved to another enterprise. Once the move has been completed the organization will come back online. Try accessing the organization at a later time. Activity Id: 7b36f2c8-498a-4dcd-a474-d4ff478bf08c.\r",
       "<br>   at Microsoft.VisualStudio.Services.WebApi.VssHttpClientBase.&lt;HandleResponseAsync&gt;d__53.MoveNext() in D:\\v2.0\\P1\\_work\\7\\s\\Vssf\\Client\\WebApi\\VssHttpClientBase.cs:line 935\r",
       "<br>--- End of stack trace from previous location where exception was thrown ---\r",
       "<br>   at System.Runtime.ExceptionServices.ExceptionDispatchInfo.Throw()\r",
       "<br>   at System.Runtime.CompilerServices.TaskAwaiter.HandleNonSuccessAndDebuggerNotification(Task task)\r",
       "<br>   at Microsoft.VisualStudio.Services.WebApi.VssHttpClientBase.&lt;SendAsync&gt;d__51.MoveNext() in D:\\v2.0\\P1\\_work\\7\\s\\Vssf\\Client\\WebApi\\VssHttpClientBase.cs:line 883\r",
       "<br>--- End of stack trace from previous location where exception was thrown ---\r",
       "<br>   at System.Runtime.ExceptionServices.ExceptionDispatchInfo.Throw()\r",
       "<br>   at System.Runtime.CompilerServices.TaskAwaiter.HandleNonSuccessAndDebuggerNotification(Task task)\r",
       "<br>   at Microsoft.VisualStudio.Services.WebApi.VssHttpClientBase.&lt;SendAsync&gt;d__47`1.MoveNext() in D:\\v2.0\\P1\\_work\\7\\s\\Vssf\\Client\\WebApi\\VssHttpClientBase.cs:line 755\r",
       "<br>--- End of stack trace from previous location where exception was thrown ---\r",
       "<br>   at System.Runtime.ExceptionServices.ExceptionDispatchInfo.Throw()\r",
       "<br>   at System.Runtime.CompilerServices.TaskAwaiter.HandleNonSuccessAndDebuggerNotification(Task task)\r",
       "<br>   at Microsoft.VisualStudio.Services.Location.Client.LocationHttpClient.&lt;GetConnectionDataAsync&gt;d__6.MoveNext() in D:\\v2.0\\P1\\_work\\7\\s\\Vssf\\Client\\WebApi\\HttpClients\\LocationHttpClient.cs:line 73\r",
       "<br>--- End of stack trace from previous location where exception was thrown ---\r",
       "<br>   at System.Runtime.ExceptionServices.ExceptionDispatchInfo.Throw()\r",
       "<br>   at System.Runtime.CompilerServices.TaskAwaiter.HandleNonSuccessAndDebuggerNotification(Task task)\r",
       "<br>   at Microsoft.VisualStudio.Services.Location.Server.RemoteLocationDataProvider.FetchLocationData(IVssRequestContext requestContext) in D:\\v2.0\\P1\\_work\\7\\s\\Vssf\\Sdk\\Server\\Location\\RemoteLocationDataProvider.cs:line 297\r",
       "<br>   at Microsoft.VisualStudio.Services.Location.Server.LocationDataProvider.&lt;GetLocationData&gt;b__43_0(IVssRequestContext request, String key) in D:\\v2.0\\P1\\_work\\7\\s\\Vssf\\Sdk\\Server\\Location\\LocationDataProvider.cs:line 1395\r",
       "<br>   at Microsoft.VisualStudio.Services.Location.Server.LocationDataCache`1.GetLocationData(IVssRequestContext requestContext, T cacheKeyIdentifier, Func`3 loadData) in D:\\v2.0\\P1\\_work\\7\\s\\Vssf\\Sdk\\Server\\Location\\LocationCache.cs:line 152\r",
       "<br>   at Microsoft.VisualStudio.Services.Location.Server.LocationDataProvider.GetLocationData(IVssRequestContext requestContext) in D:\\v2.0\\P1\\_work\\7\\s\\Vssf\\Sdk\\Server\\Location\\LocationDataProvider.cs:line 1382\r",
       "<br>   at Microsoft.VisualStudio.Services.Location.Server.RemoteLocationDataProvider..ctor(IVssRequestContext requestContext, ILocationDataCache`1 locationCache, String remoteLocationUrl) in D:\\v2.0\\P1\\_work\\7\\s\\Vssf\\Sdk\\Server\\Location\\RemoteLocationDataProvider.cs:line 41\r",
       "<br>   at Microsoft.VisualStudio.Services.Location.Server.LocationService.CreateRemoteDataProvider(IVssRequestContext requestContext, String location) in D:\\v2.0\\P1\\_work\\7\\s\\Vssf\\Sdk\\Server\\Location\\LocationService.cs:line 404\r",
       "<br>   at Microsoft.VisualStudio.Services.Location.Server.LocationService.ResolveLocationData(IVssRequestContext requestContext, Guid serviceAreaIdentifier) in D:\\v2.0\\P1\\_work\\7\\s\\Vssf\\Sdk\\Server\\Location\\LocationService.cs:line 312\r",
       "<br>   at Microsoft.VisualStudio.Services.Location.Server.LocationService.GetLocationData(IVssRequestContext requestContext, Guid serviceAreaIdentifier, Boolean throwOnMissingArea) in D:\\v2.0\\P1\\_work\\7\\s\\Vssf\\Sdk\\Server\\Location\\LocationService.cs:line 221\r",
       "<br>   at Microsoft.TeamFoundation.Framework.Server.ClientProvider.CreateClient(IVssRequestContext requestContext, Type requestedType, Guid serviceAreaId, Guid serviceIdentifier) in D:\\v2.0\\P1\\_work\\7\\s\\Vssf\\Sdk\\Server\\BusinessLogic\\ClientProvider.cs:line 355\r",
       "<br>   at Microsoft.TeamFoundation.Framework.Server.ClientProvider.GetClientImpl[T](IVssRequestContext requestContext, Guid serviceAreaId, Guid serviceIdentifier) in D:\\v2.0\\P1\\_work\\7\\s\\Vssf\\Sdk\\Server\\BusinessLogic\\ClientProvider.cs:line 274\r",
       "<br>   at Microsoft.TeamFoundation.Framework.Server.ClientProvider.GetClient[T](IVssRequestContext requestContext) in D:\\v2.0\\P1\\_work\\7\\s\\Vssf\\Sdk\\Server\\BusinessLogic\\ClientProvider.cs:line 222\r",
       "<br>   at Microsoft.VisualStudio.Services.Identity.FrameworkIdentityStore.&lt;&gt;c__DisplayClass27_1.&lt;ReadIdentities&gt;b__3() in D:\\v2.0\\P1\\_work\\7\\s\\Vssf\\Sdk\\Server\\Identity\\FrameworkIdentityStore.cs:line 1277\r",
       "<br>   at Microsoft.VisualStudio.Services.Identity.FrameworkIdentityStore.SafeReadIdentities(IVssRequestContext requestContext, Func`1 happyPath, Func`1 onExceptionResults) in D:\\v2.0\\P1\\_work\\7\\s\\Vssf\\Sdk\\Server\\Identity\\FrameworkIdentityStore.cs:line 1550\r",
       "<br>   at Microsoft.VisualStudio.Services.Identity.FrameworkIdentityStore.ReadIdentities(IVssRequestContext requestContext, IdentityDomain hostDomain, IList`1 identityIds, QueryMembership queryMembership, IEnumerable`1 propertyNameFilters, Boolean includeRestrictedVisibility) in D:\\v2.0\\P1\\_work\\7\\s\\Vssf\\Sdk\\Server\\Identity\\FrameworkIdentityStore.cs:line 1261\r",
       "<br>   at Microsoft.VisualStudio.Services.Identity.FrameworkIdentityService.ReadIdentities(IVssRequestContext requestContext, IList`1 identityIds, QueryMembership queryMembership, IEnumerable`1 propertyNameFilters, Boolean includeRestrictedVisibility) in D:\\v2.0\\P1\\_work\\7\\s\\Vssf\\Sdk\\Server\\Identity\\FrameworkIdentityService.cs:line 886\r",
       "<br>   at Microsoft.VisualStudio.Services.Identity.CompositeIdentityService.ReadIdentities(IVssRequestContext requestContext, IList`1 identityIds, QueryMembership queryMembership, IEnumerable`1 propertyNameFilters, Boolean includeRestrictedVisibility) in D:\\v2.0\\P1\\_work\\7\\s\\Vssf\\Sdk\\Server\\Identity\\CompositeIdentityService.cs:line 499</td>\n",
       "        <td>Monitor: name: VssHealthAgent auto-mitigation, category: QueryResultMonitor</td>\n",
       "        <td>Running ZeroRowMonitor: VssHealthAgent auto-mitigation. container: OrgSearch\r",
       "<br>RunId: 00000000-0000-0000-0000-000000000000\r",
       "<br>Stage 1 of 1\r",
       "<br>Monitor run result: Succeeded\r",
       "<br></td>\n",
       "    </tr>\n",
       "    <tr>\n",
       "        <td>2019-09-20 19:56:54.824423+00:00</td>\n",
       "        <td>Microsoft.TeamFoundation.Framework.Server.HostShutdownException</td>\n",
       "        <td></td>\n",
       "        <td>Monitor: name: VssHealthAgent auto-mitigation, category: QueryResultMonitor</td>\n",
       "        <td>Running ZeroRowMonitor: VssHealthAgent auto-mitigation. container: OrgSearch\r",
       "<br>RunId: 00000000-0000-0000-0000-000000000000\r",
       "<br>Stage 1 of 1\r",
       "<br>Monitor run result: Succeeded\r",
       "<br></td>\n",
       "    </tr>\n",
       "</table>\n",
       "        </body>\n",
       "        </html>"
      ],
      "text/plain": [
       "<IPython.core.display.HTML object>"
      ]
     },
     "metadata": {},
     "output_type": "display_data"
    },
    {
     "data": {
      "text/html": [
       "<html>\n",
       "        <head>\n",
       "        \n",
       "        </head>\n",
       "        <body>\n",
       "        <div><p style='padding: 10px; color: #3a87ad; background-color: #d9edf7; border-color: #bce9f1'>Done&nbsp;(00:00.806):&nbsp;3&nbsp;records</p></div>\n",
       "        </body>\n",
       "        </html>"
      ],
      "text/plain": [
       "<IPython.core.display.HTML object>"
      ]
     },
     "metadata": {},
     "output_type": "display_data"
    },
    {
     "data": {
      "text/html": [],
      "text/plain": [
       "[{'TIMESTAMP': datetime.datetime(2019, 9, 20, 19, 56, 54, 829144, tzinfo=tzutc()), 'ExceptionType': 'Microsoft.TeamFoundation.Framework.Server.HostShutdownException', 'Message': 'Microsoft.TeamFoundation.Framework.Server.HostShutdownException: VS403201: The organization is currently offline as it is being moved to another enterprise. Once the move has been completed the organization will come back online. Try accessing the organization at a later time. Activity Id: 7b36f2c8-498a-4dcd-a474-d4ff478bf08c.\\r\\n   at Microsoft.VisualStudio.Services.WebApi.VssHttpClientBase.<HandleResponseAsync>d__53.MoveNext() in D:\\\\v2.0\\\\P1\\\\_work\\\\7\\\\s\\\\Vssf\\\\Client\\\\WebApi\\\\VssHttpClientBase.cs:line 935\\r\\n--- End of stack trace from previous location where exception was thrown ---\\r\\n   at System.Runtime.ExceptionServices.ExceptionDispatchInfo.Throw()\\r\\n   at System.Runtime.CompilerServices.TaskAwaiter.HandleNonSuccessAndDebuggerNotification(Task task)\\r\\n   at Microsoft.VisualStudio.Services.WebApi.VssHttpClientBase.<SendAsync>d__51.MoveNext() in D:\\\\v2.0\\\\P1\\\\_work\\\\7\\\\s\\\\Vssf\\\\Client\\\\WebApi\\\\VssHttpClientBase.cs:line 883\\r\\n--- End of stack trace from previous location where exception was thrown ---\\r\\n   at System.Runtime.ExceptionServices.ExceptionDispatchInfo.Throw()\\r\\n   at System.Runtime.CompilerServices.TaskAwaiter.HandleNonSuccessAndDebuggerNotification(Task task)\\r\\n   at Microsoft.VisualStudio.Services.WebApi.VssHttpClientBase.<SendAsync>d__47`1.MoveNext() in D:\\\\v2.0\\\\P1\\\\_work\\\\7\\\\s\\\\Vssf\\\\Client\\\\WebApi\\\\VssHttpClientBase.cs:line 755\\r\\n--- End of stack trace from previous location where exception was thrown ---\\r\\n   at System.Runtime.ExceptionServices.ExceptionDispatchInfo.Throw()\\r\\n   at System.Runtime.CompilerServices.TaskAwaiter.HandleNonSuccessAndDebuggerNotification(Task task)\\r\\n   at Microsoft.VisualStudio.Services.Location.Client.LocationHttpClient.<GetConnectionDataAsync>d__6.MoveNext() in D:\\\\v2.0\\\\P1\\\\_work\\\\7\\\\s\\\\Vssf\\\\Client\\\\WebApi\\\\HttpClients\\\\LocationHttpClient.cs:line 73\\r\\n--- End of stack trace from previous location where exception was thrown ---\\r\\n   at System.Runtime.ExceptionServices.ExceptionDispatchInfo.Throw()\\r\\n   at System.Runtime.CompilerServices.TaskAwaiter.HandleNonSuccessAndDebuggerNotification(Task task)\\r\\n   at Microsoft.VisualStudio.Services.Location.Server.RemoteLocationDataProvider.FetchLocationData(IVssRequestContext requestContext) in D:\\\\v2.0\\\\P1\\\\_work\\\\7\\\\s\\\\Vssf\\\\Sdk\\\\Server\\\\Location\\\\RemoteLocationDataProvider.cs:line 297\\r\\n   at Microsoft.VisualStudio.Services.Location.Server.LocationDataProvider.<GetLocationData>b__43_0(IVssRequestContext request, String key) in D:\\\\v2.0\\\\P1\\\\_work\\\\7\\\\s\\\\Vssf\\\\Sdk\\\\Server\\\\Location\\\\LocationDataProvider.cs:line 1395\\r\\n   at Microsoft.VisualStudio.Services.Location.Server.LocationDataCache`1.GetLocationData(IVssRequestContext requestContext, T cacheKeyIdentifier, Func`3 loadData) in D:\\\\v2.0\\\\P1\\\\_work\\\\7\\\\s\\\\Vssf\\\\Sdk\\\\Server\\\\Location\\\\LocationCache.cs:line 152\\r\\n   at Microsoft.VisualStudio.Services.Location.Server.LocationDataProvider.GetLocationData(IVssRequestContext requestContext) in D:\\\\v2.0\\\\P1\\\\_work\\\\7\\\\s\\\\Vssf\\\\Sdk\\\\Server\\\\Location\\\\LocationDataProvider.cs:line 1382\\r\\n   at Microsoft.VisualStudio.Services.Location.Server.RemoteLocationDataProvider..ctor(IVssRequestContext requestContext, ILocationDataCache`1 locationCache, String remoteLocationUrl) in D:\\\\v2.0\\\\P1\\\\_work\\\\7\\\\s\\\\Vssf\\\\Sdk\\\\Server\\\\Location\\\\RemoteLocationDataProvider.cs:line 41\\r\\n   at Microsoft.VisualStudio.Services.Location.Server.LocationService.CreateRemoteDataProvider(IVssRequestContext requestContext, String location) in D:\\\\v2.0\\\\P1\\\\_work\\\\7\\\\s\\\\Vssf\\\\Sdk\\\\Server\\\\Location\\\\LocationService.cs:line 404\\r\\n   at Microsoft.VisualStudio.Services.Location.Server.LocationService.ResolveLocationData(IVssRequestContext requestContext, Guid serviceAreaIdentifier) in D:\\\\v2.0\\\\P1\\\\_work\\\\7\\\\s\\\\Vssf\\\\Sdk\\\\Server\\\\Location\\\\LocationService.cs:line 312\\r\\n   at Microsoft.VisualStudio.Services.Location.Server.LocationService.GetLocationData(IVssRequestContext requestContext, Guid serviceAreaIdentifier, Boolean throwOnMissingArea) in D:\\\\v2.0\\\\P1\\\\_work\\\\7\\\\s\\\\Vssf\\\\Sdk\\\\Server\\\\Location\\\\LocationService.cs:line 221\\r\\n   at Microsoft.TeamFoundation.Framework.Server.ClientProvider.CreateClient(IVssRequestContext requestContext, Type requestedType, Guid serviceAreaId, Guid serviceIdentifier) in D:\\\\v2.0\\\\P1\\\\_work\\\\7\\\\s\\\\Vssf\\\\Sdk\\\\Server\\\\BusinessLogic\\\\ClientProvider.cs:line 355\\r\\n   at Microsoft.TeamFoundation.Framework.Server.ClientProvider.GetClientImpl[T](IVssRequestContext requestContext, Guid serviceAreaId, Guid serviceIdentifier) in D:\\\\v2.0\\\\P1\\\\_work\\\\7\\\\s\\\\Vssf\\\\Sdk\\\\Server\\\\BusinessLogic\\\\ClientProvider.cs:line 274\\r\\n   at Microsoft.TeamFoundation.Framework.Server.ClientProvider.GetClient[T](IVssRequestContext requestContext) in D:\\\\v2.0\\\\P1\\\\_work\\\\7\\\\s\\\\Vssf\\\\Sdk\\\\Server\\\\BusinessLogic\\\\ClientProvider.cs:line 222\\r\\n   at Microsoft.VisualStudio.Services.Identity.FrameworkIdentityStore.<>c__DisplayClass27_1.<ReadIdentities>b__3() in D:\\\\v2.0\\\\P1\\\\_work\\\\7\\\\s\\\\Vssf\\\\Sdk\\\\Server\\\\Identity\\\\FrameworkIdentityStore.cs:line 1277\\r\\n   at Microsoft.VisualStudio.Services.Identity.FrameworkIdentityStore.SafeReadIdentities(IVssRequestContext requestContext, Func`1 happyPath, Func`1 onExceptionResults) in D:\\\\v2.0\\\\P1\\\\_work\\\\7\\\\s\\\\Vssf\\\\Sdk\\\\Server\\\\Identity\\\\FrameworkIdentityStore.cs:line 1550\\r\\n   at Microsoft.VisualStudio.Services.Identity.FrameworkIdentityStore.ReadIdentities(IVssRequestContext requestContext, IdentityDomain hostDomain, IList`1 identityIds, QueryMembership queryMembership, IEnumerable`1 propertyNameFilters, Boolean includeRestrictedVisibility) in D:\\\\v2.0\\\\P1\\\\_work\\\\7\\\\s\\\\Vssf\\\\Sdk\\\\Server\\\\Identity\\\\FrameworkIdentityStore.cs:line 1261\\r\\n   at Microsoft.VisualStudio.Services.Identity.FrameworkIdentityService.ReadIdentities(IVssRequestContext requestContext, IList`1 identityIds, QueryMembership queryMembership, IEnumerable`1 propertyNameFilters, Boolean includeRestrictedVisibility) in D:\\\\v2.0\\\\P1\\\\_work\\\\7\\\\s\\\\Vssf\\\\Sdk\\\\Server\\\\Identity\\\\FrameworkIdentityService.cs:line 886\\r\\n   at Microsoft.VisualStudio.Services.Identity.CompositeIdentityService.ReadIdentities(IVssRequestContext requestContext, IList`1 identityIds, QueryMembership queryMembership, IEnumerable`1 propertyNameFilters, Boolean includeRestrictedVisibility) in D:\\\\v2.0\\\\P1\\\\_work\\\\7\\\\s\\\\Vssf\\\\Sdk\\\\Server\\\\Identity\\\\CompositeIdentityService.cs:line 534\\r\\n   at Microsoft.VisualStudio.Services.Kalypso.Server.IdentityHelper.GetIdentities(IVssRequestContext requestContext, IdentityService identityService, IEnumerable`1 identityIds) in D:\\\\v2.0\\\\P1\\\\_work\\\\7\\\\s\\\\Kalypso\\\\Service\\\\Server\\\\IdentityHelper.cs:line 127\\r\\n   at Microsoft.VisualStudio.Services.Kalypso.Server.IdentityHelper.QueryIdentities(IVssRequestContext context, IList`1 identityIds) in D:\\\\v2.0\\\\P1\\\\_work\\\\7\\\\s\\\\Kalypso\\\\Service\\\\Server\\\\IdentityHelper.cs:line 27\\r\\n   at Microsoft.VisualStudio.Services.Kalypso.Server.ServiceHelpers.FillIdentityInformation(IVssRequestContext requestContext, ItemMetadata itemMetadata) in D:\\\\v2.0\\\\P1\\\\_work\\\\7\\\\s\\\\Kalypso\\\\Service\\\\Server\\\\Health\\\\Monitors\\\\ServiceHelpers.cs:line 21', 'JobName': 'Monitor: name: VssHealthAgent auto-mitigation, category: QueryResultMonitor', 'ResultMessage': 'Running ZeroRowMonitor: VssHealthAgent auto-mitigation. container: OrgSearch\\r\\nRunId: 00000000-0000-0000-0000-000000000000\\r\\nStage 1 of 1\\r\\nMonitor run result: Succeeded\\r\\n'},\n",
       " {'TIMESTAMP': datetime.datetime(2019, 9, 20, 19, 56, 54, 828661, tzinfo=tzutc()), 'ExceptionType': 'Microsoft.TeamFoundation.Framework.Server.HostShutdownException', 'Message': 'Microsoft.TeamFoundation.Framework.Server.HostShutdownException: VS403201: The organization is currently offline as it is being moved to another enterprise. Once the move has been completed the organization will come back online. Try accessing the organization at a later time. Activity Id: 7b36f2c8-498a-4dcd-a474-d4ff478bf08c.\\r\\n   at Microsoft.VisualStudio.Services.WebApi.VssHttpClientBase.<HandleResponseAsync>d__53.MoveNext() in D:\\\\v2.0\\\\P1\\\\_work\\\\7\\\\s\\\\Vssf\\\\Client\\\\WebApi\\\\VssHttpClientBase.cs:line 935\\r\\n--- End of stack trace from previous location where exception was thrown ---\\r\\n   at System.Runtime.ExceptionServices.ExceptionDispatchInfo.Throw()\\r\\n   at System.Runtime.CompilerServices.TaskAwaiter.HandleNonSuccessAndDebuggerNotification(Task task)\\r\\n   at Microsoft.VisualStudio.Services.WebApi.VssHttpClientBase.<SendAsync>d__51.MoveNext() in D:\\\\v2.0\\\\P1\\\\_work\\\\7\\\\s\\\\Vssf\\\\Client\\\\WebApi\\\\VssHttpClientBase.cs:line 883\\r\\n--- End of stack trace from previous location where exception was thrown ---\\r\\n   at System.Runtime.ExceptionServices.ExceptionDispatchInfo.Throw()\\r\\n   at System.Runtime.CompilerServices.TaskAwaiter.HandleNonSuccessAndDebuggerNotification(Task task)\\r\\n   at Microsoft.VisualStudio.Services.WebApi.VssHttpClientBase.<SendAsync>d__47`1.MoveNext() in D:\\\\v2.0\\\\P1\\\\_work\\\\7\\\\s\\\\Vssf\\\\Client\\\\WebApi\\\\VssHttpClientBase.cs:line 755\\r\\n--- End of stack trace from previous location where exception was thrown ---\\r\\n   at System.Runtime.ExceptionServices.ExceptionDispatchInfo.Throw()\\r\\n   at System.Runtime.CompilerServices.TaskAwaiter.HandleNonSuccessAndDebuggerNotification(Task task)\\r\\n   at Microsoft.VisualStudio.Services.Location.Client.LocationHttpClient.<GetConnectionDataAsync>d__6.MoveNext() in D:\\\\v2.0\\\\P1\\\\_work\\\\7\\\\s\\\\Vssf\\\\Client\\\\WebApi\\\\HttpClients\\\\LocationHttpClient.cs:line 73\\r\\n--- End of stack trace from previous location where exception was thrown ---\\r\\n   at System.Runtime.ExceptionServices.ExceptionDispatchInfo.Throw()\\r\\n   at System.Runtime.CompilerServices.TaskAwaiter.HandleNonSuccessAndDebuggerNotification(Task task)\\r\\n   at Microsoft.VisualStudio.Services.Location.Server.RemoteLocationDataProvider.FetchLocationData(IVssRequestContext requestContext) in D:\\\\v2.0\\\\P1\\\\_work\\\\7\\\\s\\\\Vssf\\\\Sdk\\\\Server\\\\Location\\\\RemoteLocationDataProvider.cs:line 297\\r\\n   at Microsoft.VisualStudio.Services.Location.Server.LocationDataProvider.<GetLocationData>b__43_0(IVssRequestContext request, String key) in D:\\\\v2.0\\\\P1\\\\_work\\\\7\\\\s\\\\Vssf\\\\Sdk\\\\Server\\\\Location\\\\LocationDataProvider.cs:line 1395\\r\\n   at Microsoft.VisualStudio.Services.Location.Server.LocationDataCache`1.GetLocationData(IVssRequestContext requestContext, T cacheKeyIdentifier, Func`3 loadData) in D:\\\\v2.0\\\\P1\\\\_work\\\\7\\\\s\\\\Vssf\\\\Sdk\\\\Server\\\\Location\\\\LocationCache.cs:line 152\\r\\n   at Microsoft.VisualStudio.Services.Location.Server.LocationDataProvider.GetLocationData(IVssRequestContext requestContext) in D:\\\\v2.0\\\\P1\\\\_work\\\\7\\\\s\\\\Vssf\\\\Sdk\\\\Server\\\\Location\\\\LocationDataProvider.cs:line 1382\\r\\n   at Microsoft.VisualStudio.Services.Location.Server.RemoteLocationDataProvider..ctor(IVssRequestContext requestContext, ILocationDataCache`1 locationCache, String remoteLocationUrl) in D:\\\\v2.0\\\\P1\\\\_work\\\\7\\\\s\\\\Vssf\\\\Sdk\\\\Server\\\\Location\\\\RemoteLocationDataProvider.cs:line 41\\r\\n   at Microsoft.VisualStudio.Services.Location.Server.LocationService.CreateRemoteDataProvider(IVssRequestContext requestContext, String location) in D:\\\\v2.0\\\\P1\\\\_work\\\\7\\\\s\\\\Vssf\\\\Sdk\\\\Server\\\\Location\\\\LocationService.cs:line 404\\r\\n   at Microsoft.VisualStudio.Services.Location.Server.LocationService.ResolveLocationData(IVssRequestContext requestContext, Guid serviceAreaIdentifier) in D:\\\\v2.0\\\\P1\\\\_work\\\\7\\\\s\\\\Vssf\\\\Sdk\\\\Server\\\\Location\\\\LocationService.cs:line 312\\r\\n   at Microsoft.VisualStudio.Services.Location.Server.LocationService.GetLocationData(IVssRequestContext requestContext, Guid serviceAreaIdentifier, Boolean throwOnMissingArea) in D:\\\\v2.0\\\\P1\\\\_work\\\\7\\\\s\\\\Vssf\\\\Sdk\\\\Server\\\\Location\\\\LocationService.cs:line 221\\r\\n   at Microsoft.TeamFoundation.Framework.Server.ClientProvider.CreateClient(IVssRequestContext requestContext, Type requestedType, Guid serviceAreaId, Guid serviceIdentifier) in D:\\\\v2.0\\\\P1\\\\_work\\\\7\\\\s\\\\Vssf\\\\Sdk\\\\Server\\\\BusinessLogic\\\\ClientProvider.cs:line 355\\r\\n   at Microsoft.TeamFoundation.Framework.Server.ClientProvider.GetClientImpl[T](IVssRequestContext requestContext, Guid serviceAreaId, Guid serviceIdentifier) in D:\\\\v2.0\\\\P1\\\\_work\\\\7\\\\s\\\\Vssf\\\\Sdk\\\\Server\\\\BusinessLogic\\\\ClientProvider.cs:line 274\\r\\n   at Microsoft.TeamFoundation.Framework.Server.ClientProvider.GetClient[T](IVssRequestContext requestContext) in D:\\\\v2.0\\\\P1\\\\_work\\\\7\\\\s\\\\Vssf\\\\Sdk\\\\Server\\\\BusinessLogic\\\\ClientProvider.cs:line 222\\r\\n   at Microsoft.VisualStudio.Services.Identity.FrameworkIdentityStore.<>c__DisplayClass27_1.<ReadIdentities>b__3() in D:\\\\v2.0\\\\P1\\\\_work\\\\7\\\\s\\\\Vssf\\\\Sdk\\\\Server\\\\Identity\\\\FrameworkIdentityStore.cs:line 1277\\r\\n   at Microsoft.VisualStudio.Services.Identity.FrameworkIdentityStore.SafeReadIdentities(IVssRequestContext requestContext, Func`1 happyPath, Func`1 onExceptionResults) in D:\\\\v2.0\\\\P1\\\\_work\\\\7\\\\s\\\\Vssf\\\\Sdk\\\\Server\\\\Identity\\\\FrameworkIdentityStore.cs:line 1550\\r\\n   at Microsoft.VisualStudio.Services.Identity.FrameworkIdentityStore.ReadIdentities(IVssRequestContext requestContext, IdentityDomain hostDomain, IList`1 identityIds, QueryMembership queryMembership, IEnumerable`1 propertyNameFilters, Boolean includeRestrictedVisibility) in D:\\\\v2.0\\\\P1\\\\_work\\\\7\\\\s\\\\Vssf\\\\Sdk\\\\Server\\\\Identity\\\\FrameworkIdentityStore.cs:line 1261\\r\\n   at Microsoft.VisualStudio.Services.Identity.FrameworkIdentityService.ReadIdentities(IVssRequestContext requestContext, IList`1 identityIds, QueryMembership queryMembership, IEnumerable`1 propertyNameFilters, Boolean includeRestrictedVisibility) in D:\\\\v2.0\\\\P1\\\\_work\\\\7\\\\s\\\\Vssf\\\\Sdk\\\\Server\\\\Identity\\\\FrameworkIdentityService.cs:line 886\\r\\n   at Microsoft.VisualStudio.Services.Identity.CompositeIdentityService.ReadIdentities(IVssRequestContext requestContext, IList`1 identityIds, QueryMembership queryMembership, IEnumerable`1 propertyNameFilters, Boolean includeRestrictedVisibility) in D:\\\\v2.0\\\\P1\\\\_work\\\\7\\\\s\\\\Vssf\\\\Sdk\\\\Server\\\\Identity\\\\CompositeIdentityService.cs:line 499', 'JobName': 'Monitor: name: VssHealthAgent auto-mitigation, category: QueryResultMonitor', 'ResultMessage': 'Running ZeroRowMonitor: VssHealthAgent auto-mitigation. container: OrgSearch\\r\\nRunId: 00000000-0000-0000-0000-000000000000\\r\\nStage 1 of 1\\r\\nMonitor run result: Succeeded\\r\\n'},\n",
       " {'TIMESTAMP': datetime.datetime(2019, 9, 20, 19, 56, 54, 824423, tzinfo=tzutc()), 'ExceptionType': 'Microsoft.TeamFoundation.Framework.Server.HostShutdownException', 'Message': '', 'JobName': 'Monitor: name: VssHealthAgent auto-mitigation, category: QueryResultMonitor', 'ResultMessage': 'Running ZeroRowMonitor: VssHealthAgent auto-mitigation. container: OrgSearch\\r\\nRunId: 00000000-0000-0000-0000-000000000000\\r\\nStage 1 of 1\\r\\nMonitor run result: Succeeded\\r\\n'}]"
      ]
     },
     "execution_count": 34,
     "metadata": {},
     "output_type": "execute_result"
    }
   ],
   "source": [
    "%%kql\n",
    "let _alertTime_ = _AlertTime_;\n",
    "let endTime = todatetime(_alertTime_);\n",
    "let _upperOutlier_ = _UpperOutlier_;\n",
    "let _lowerOutlier_ = _LowerOutlier_;\n",
    "let _service_ = _Service_;\n",
    "let _scaleUnit_ = _ScaleUnit_;\n",
    "let _runResult_ = _RunResult_;\n",
    "let _exceptionTypes_ = top_5_exception_types;\n",
    "ProductTrace\n",
    "| where Service == _service_ and ScaleUnit == _scaleUnit_ and ExceptionType != \"\"\n",
    "| where TIMESTAMP > endTime - 1h and TIMESTAMP < endTime\n",
    "| join kind=inner (\n",
    "    JobHistory\n",
    "    | where Service == _service_ and ScaleUnit == _scaleUnit_\n",
    "    | where TIMESTAMP > endTime - 1h and TIMESTAMP < endTime\n",
    "    | where Plugin == \"Microsoft.VisualStudio.Services.Kalypso.Jobs.ZeroRowMonitor\"\n",
    "    | where ResultMessage contains \"Monitor run result\" \n",
    "    | project ActivityId, TIMESTAMP, JobName, Plugin, ResultMessage \n",
    "    | extend RunResult = case(ResultMessage contains \"Monitor run result: Succeeded\", \"Succeeded\",\n",
    "        ResultMessage contains \"Monitor run result: SignaledWithError\", \"SignaledWithError\",\n",
    "        ResultMessage contains \"Monitor run result: Signaled\", \"Signaled\",\n",
    "        ResultMessage contains \"Monitor run result: UserError\", \"UserError\",\n",
    "        ResultMessage contains \"Monitor run result: PlatformError\", \"PlatformError\",\n",
    "        \"Default\")\n",
    "    | where RunResult == _runResult_\n",
    ") on ActivityId\n",
    "| project TIMESTAMP, ExceptionType, Message, JobName, ResultMessage\n",
    "| where ExceptionType in (_exceptionTypes_)\n",
    "| limit 10"
   ]
  },
  {
   "cell_type": "code",
   "execution_count": 35,
   "metadata": {},
   "outputs": [],
   "source": [
    "if \"Kusto.Data.Exceptions.SemanticException\" in top_5_exception_types:\n",
    "    printmd('if message is of format \"Principal xxxxxx is not authorized to access database dbxxxxx.\", add principle ID mentioned to the database or report the issue to Kalyso V-Team at kalypsovt@microsoft.com')"
   ]
  },
  {
   "cell_type": "markdown",
   "metadata": {},
   "source": [
    "### Distribution of exceptions\n",
    "To understand the severity of the issue let's see number of monitors and containers that are being affected"
   ]
  },
  {
   "cell_type": "code",
   "execution_count": 36,
   "metadata": {},
   "outputs": [
    {
     "data": {
      "text/html": [
       "<html>\n",
       "        <head>\n",
       "        \n",
       "        </head>\n",
       "        <body>\n",
       "        <div><p style='padding: 10px; color: #3a87ad; background-color: #d9edf7; border-color: #bce9f1'>&nbsp;*&nbsp;vso@vso</p></div>\n",
       "        </body>\n",
       "        </html>"
      ],
      "text/plain": [
       "<IPython.core.display.HTML object>"
      ]
     },
     "metadata": {},
     "output_type": "display_data"
    },
    {
     "data": {
      "text/html": [
       "<html>\n",
       "        <head>\n",
       "        \n",
       "        </head>\n",
       "        <body>\n",
       "        <table>\n",
       "    <tr>\n",
       "        <th>NumberOfImpactedMonitors</th>\n",
       "        <th>NumberOfImpactedContainers</th>\n",
       "    </tr>\n",
       "    <tr>\n",
       "        <td>0</td>\n",
       "        <td>0</td>\n",
       "    </tr>\n",
       "</table>\n",
       "        </body>\n",
       "        </html>"
      ],
      "text/plain": [
       "<IPython.core.display.HTML object>"
      ]
     },
     "metadata": {},
     "output_type": "display_data"
    },
    {
     "data": {
      "text/html": [
       "<html>\n",
       "        <head>\n",
       "        \n",
       "        </head>\n",
       "        <body>\n",
       "        <div><p style='padding: 10px; color: #3a87ad; background-color: #d9edf7; border-color: #bce9f1'>Done&nbsp;(00:00.375):&nbsp;1&nbsp;records</p></div>\n",
       "        </body>\n",
       "        </html>"
      ],
      "text/plain": [
       "<IPython.core.display.HTML object>"
      ]
     },
     "metadata": {},
     "output_type": "display_data"
    },
    {
     "data": {
      "text/html": [],
      "text/plain": [
       "[{'NumberOfImpactedMonitors': 0, 'NumberOfImpactedContainers': 0}]"
      ]
     },
     "execution_count": 36,
     "metadata": {},
     "output_type": "execute_result"
    }
   ],
   "source": [
    "%%kql\n",
    "let _alertTime_ = _AlertTime_;\n",
    "let endTime = todatetime(_alertTime_);\n",
    "let _upperOutlier_ = _UpperOutlier_;\n",
    "let _lowerOutlier_ = _LowerOutlier_;\n",
    "let _service_ = _Service_;\n",
    "let _scaleUnit_ = _ScaleUnit_;\n",
    "let _runResult_ = _RunResult_;\n",
    "JobHistory\n",
    "| where TIMESTAMP > bin(endTime - 1h, 5m) and TIMESTAMP <= bin(endTime - 30m, 5m) // take proper time range to avoid spikes around the time boundary\n",
    "| where Service == _service_\n",
    "| where ScaleUnit == _scaleUnit_\n",
    "| where Plugin == \"Microsoft.VisualStudio.Services.Kalypso.Jobs.ZeroRowMonitor\"\n",
    "| where ResultMessage contains \"Monitor run result\" \n",
    "| project TIMESTAMP, JobName, Plugin, ResultMessage \n",
    "| extend RunResult = case(ResultMessage contains \"Monitor run result: UserError\", \"UserError\",\n",
    "ResultMessage contains \"Monitor run result: PlatformError\", \"PlatformError\",\n",
    "\"Default\")\n",
    "| where RunResult == _runResult_\n",
    "| parse kind=regex ResultMessage with \"Running ZeroRowMonitor: \"monitor_name\". container: \"container_name\n",
    "| summarize by monitor_name, container_name\n",
    "| summarize NumberOfImpactedMonitors = dcount(monitor_name), NumberOfImpactedContainers = dcount(container_name)"
   ]
  },
  {
   "cell_type": "code",
   "execution_count": null,
   "metadata": {},
   "outputs": [],
   "source": []
  }
 ],
 "metadata": {
  "celltoolbar": "Tags",
  "kernelspec": {
   "display_name": "Python 3",
   "language": "python",
   "name": "python3"
  },
  "language_info": {
   "codemirror_mode": {
    "name": "ipython",
    "version": 3
   },
   "file_extension": ".py",
   "mimetype": "text/x-python",
   "name": "python",
   "nbconvert_exporter": "python",
   "pygments_lexer": "ipython3",
   "version": "3.7.3"
  }
 },
 "nbformat": 4,
 "nbformat_minor": 2
}
